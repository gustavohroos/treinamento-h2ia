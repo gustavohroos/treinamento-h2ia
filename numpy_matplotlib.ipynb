{
  "nbformat": 4,
  "nbformat_minor": 0,
  "metadata": {
    "colab": {
      "name": "numpy_matplotlib.ipynb",
      "provenance": [],
      "collapsed_sections": [],
      "authorship_tag": "ABX9TyObeTrs+GwOHLl/0uO2yGJJ",
      "include_colab_link": true
    },
    "kernelspec": {
      "name": "python3",
      "display_name": "Python 3"
    },
    "language_info": {
      "name": "python"
    }
  },
  "cells": [
    {
      "cell_type": "markdown",
      "metadata": {
        "id": "view-in-github",
        "colab_type": "text"
      },
      "source": [
        "<a href=\"https://colab.research.google.com/github/gustavohroos/treinamento-h2ia/blob/main/numpy_matplotlib.ipynb\" target=\"_parent\"><img src=\"https://colab.research.google.com/assets/colab-badge.svg\" alt=\"Open In Colab\"/></a>"
      ]
    },
    {
      "cell_type": "markdown",
      "source": [
        "#Introdução\n",
        "Numpy é uma biblioteca para computação científica, que aumenta a performance da linguagem para lidar com arrays multidimensionais e adiciona algumas ferramentas para manipular eles"
      ],
      "metadata": {
        "id": "ATdKKIrdcQWy"
      }
    },
    {
      "cell_type": "markdown",
      "source": [
        "Importando a biblioteca"
      ],
      "metadata": {
        "id": "goag5vR1c9Cy"
      }
    },
    {
      "cell_type": "code",
      "execution_count": null,
      "metadata": {
        "id": "zKa547febtbl"
      },
      "outputs": [],
      "source": [
        "import numpy as np"
      ]
    },
    {
      "cell_type": "code",
      "source": [
        "# Array fornecendo lista\n",
        "list_1 = [3, 4, 5, 6, 7]\n",
        "array = np.array(list_1)\n",
        "\n",
        "# Sub array fornecendo o index\n",
        "arr_slice = array[2:4]\n",
        "\n",
        "# Printando o array inteiro\n",
        "print(f\"Array inteiro: {array}\")\n",
        "\n",
        "# Printando o sub array, entre as posiçoes 2 (inclusive) e 4 (exclusivo)\n",
        "print(f\"Fatia do array: {arr_slice}\")"
      ],
      "metadata": {
        "colab": {
          "base_uri": "https://localhost:8080/"
        },
        "id": "QmnZFMoWgkrt",
        "outputId": "2c359d7e-3f33-4f5f-e81d-b7c25c098496"
      },
      "execution_count": null,
      "outputs": [
        {
          "output_type": "stream",
          "name": "stdout",
          "text": [
            "Array inteiro: [3 4 5 6 7]\n",
            "Fatia do array: [5 6]\n"
          ]
        }
      ]
    },
    {
      "cell_type": "code",
      "source": [
        "# Definindo novo array com mais de uma dimensão\n",
        "list_2 = [[0, 1, 3, 4], [2, 3, 4, 19], [50, 2, 0, 1]]\n",
        "array = np.array(list_2)\n",
        "\n",
        "# Retornando uma tupla com as dimensões do array\n",
        "linhas, colunas = array.shape\n",
        "print(f\"O array tem {linhas} linhas e {colunas} colunas\")"
      ],
      "metadata": {
        "colab": {
          "base_uri": "https://localhost:8080/"
        },
        "id": "LPxFklHS8vTr",
        "outputId": "413e35c8-181c-4348-cebb-85585775d75c"
      },
      "execution_count": null,
      "outputs": [
        {
          "output_type": "stream",
          "name": "stdout",
          "text": [
            "O array tem 3 linhas e 4 colunas\n"
          ]
        }
      ]
    },
    {
      "cell_type": "code",
      "source": [
        "# Criando arrays com zeros ou um's\n",
        "array_zero = np.zeros((3, 4), dtype=int)\n",
        "\n",
        "array_um = np.ones((4, 3), dtype=int)\n",
        "\n",
        "print(f\"Array de um's com 4 linhas e 3 colunas: \\n{array_um}\")\n",
        "print(f\"Array de zeros com 3 linhas e 4 colunas: \\n{array_zero}\")"
      ],
      "metadata": {
        "colab": {
          "base_uri": "https://localhost:8080/"
        },
        "id": "V4J0F6M79nvJ",
        "outputId": "114d9075-e333-46e0-f2bc-2a176dab10df"
      },
      "execution_count": null,
      "outputs": [
        {
          "output_type": "stream",
          "name": "stdout",
          "text": [
            "Array de um's com 4 linhas e 3 colunas: \n",
            "[[1 1 1]\n",
            " [1 1 1]\n",
            " [1 1 1]\n",
            " [1 1 1]]\n",
            "Array de zeros com 3 linhas e 4 colunas: \n",
            "[[0 0 0 0]\n",
            " [0 0 0 0]\n",
            " [0 0 0 0]]\n"
          ]
        }
      ]
    },
    {
      "cell_type": "markdown",
      "source": [
        "#Matplotlib\n",
        "Biblioteca utilizada para criar gráficos com python"
      ],
      "metadata": {
        "id": "y8_XARGg_N_d"
      }
    },
    {
      "cell_type": "code",
      "source": [
        "# Importando a biblioteca\n",
        "import matplotlib.pyplot as plt\n",
        "%matplotlib inline"
      ],
      "metadata": {
        "id": "oi9gh8Kp_yaM"
      },
      "execution_count": null,
      "outputs": []
    },
    {
      "cell_type": "code",
      "source": [
        "# Criando um gráfico de uma função linear\n",
        "x = np.arange(1, 10)\n",
        "y = x\n",
        "\n",
        "plt.title(\"f(x) = x\")\n",
        "plt.plot(x, y)\n",
        "plt.show()"
      ],
      "metadata": {
        "colab": {
          "base_uri": "https://localhost:8080/",
          "height": 281
        },
        "id": "jayHyrTB_sWu",
        "outputId": "b4961b81-35ba-4b04-fd3d-9d30b1ebf6ce"
      },
      "execution_count": null,
      "outputs": [
        {
          "output_type": "display_data",
          "data": {
            "text/plain": [
              "<Figure size 432x288 with 1 Axes>"
            ],
            "image/png": "[encoded data removed]"
          },
          "metadata": {
            "needs_background": "light"
          }
        }
      ]
    },
    {
      "cell_type": "code",
      "source": [
        "# Criando um gráfico com pares ordenados x e y\n",
        "\n",
        "x = np.array([0, 5, 7, 15])\n",
        "y = np.array([0, 4, 5, 24])\n",
        "\n",
        "plt.plot(x, y)\n",
        "plt.show()"
      ],
      "metadata": {
        "colab": {
          "base_uri": "https://localhost:8080/",
          "height": 268
        },
        "id": "_Ymem_zZCjYQ",
        "outputId": "fa7b2130-54dc-4673-94cd-daeed558c6f7"
      },
      "execution_count": null,
      "outputs": [
        {
          "output_type": "display_data",
          "data": {
            "text/plain": [
              "<Figure size 432x288 with 1 Axes>"
            ],
            "image/png": "[encoded data removed]"
          },
          "metadata": {
            "needs_background": "light"
          }
        }
      ]
    },
    {
      "cell_type": "code",
      "source": [
        "# Criando um gráfico de barras a partir de uma lista\n",
        "\n",
        "lista = [250, 300, 400, 20, 60]\n",
        "\n",
        "x = np.array(lista)\n",
        "labels = np.array(['português', 'inglês', 'espanhol', 'latim', 'coreano'])\n",
        "\n",
        "plt.ylabel('milhões de falantes')\n",
        "plt.title('gráfico fictício de linguagens mais faladas no mundo')\n",
        "plt.bar(labels, x)\n",
        "plt.show()"
      ],
      "metadata": {
        "colab": {
          "base_uri": "https://localhost:8080/",
          "height": 282
        },
        "id": "DDKglHJnTWMy",
        "outputId": "ddada2ce-4e33-4acf-ad9c-0a1b20768299"
      },
      "execution_count": null,
      "outputs": [
        {
          "output_type": "display_data",
          "data": {
            "text/plain": [
              "<Figure size 432x288 with 1 Axes>"
            ],
            "image/png": "[encoded data removed]"
          },
          "metadata": {
            "needs_background": "light"
          }
        }
      ]
    },
    {
      "cell_type": "markdown",
      "source": [
        "Podemos até mesmo criar um tabuleiro de xadrez utilizando matplotlib\n"
      ],
      "metadata": {
        "id": "M5Xf_lPD_We2"
      }
    },
    {
      "cell_type": "code",
      "source": [
        "from matplotlib.colors import ListedColormap\n",
        "\n",
        "tabuleiro = np.tile([1, 0], [8, 4])\n",
        "\n",
        "for i in range(tabuleiro.shape[0]):\n",
        "    tabuleiro[i] = np.roll(tabuleiro[i], i % 2)\n",
        "\n",
        "color_map = ListedColormap(['#779556', '#ebecd0'])\n",
        "plt.matshow(tabuleiro, cmap=color_map)\n",
        "plt.title(\"Tabuleiro de xadrez\")\n",
        "plt.xticks([])\n",
        "plt.yticks([])\n",
        "plt.show()"
      ],
      "metadata": {
        "colab": {
          "base_uri": "https://localhost:8080/",
          "height": 285
        },
        "id": "URPXLI6f-_Up",
        "outputId": "0ac8eb25-06e9-4a0f-97a9-83c3fe7018d8"
      },
      "execution_count": null,
      "outputs": [
        {
          "output_type": "display_data",
          "data": {
            "text/plain": [
              "<Figure size 288x288 with 1 Axes>"
            ],
            "image/png": "[encoded data removed]"
          },
          "metadata": {}
        }
      ]
    }
  ]
}
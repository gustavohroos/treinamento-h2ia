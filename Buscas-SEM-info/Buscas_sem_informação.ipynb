{
  "nbformat": 4,
  "nbformat_minor": 0,
  "metadata": {
    "colab": {
      "name": "Buscas sem informação.ipynb",
      "provenance": [],
      "collapsed_sections": [],
      "include_colab_link": true
    },
    "kernelspec": {
      "name": "python3",
      "display_name": "Python 3"
    },
    "language_info": {
      "name": "python"
    }
  },
  "cells": [
    {
      "cell_type": "markdown",
      "metadata": {
        "id": "view-in-github",
        "colab_type": "text"
      },
      "source": [
        "<a href=\"https://colab.research.google.com/github/gustavohroos/treinamento-h2ia/blob/main/Buscas-SEM-info/Buscas_sem_informa%C3%A7%C3%A3o.ipynb\" target=\"_parent\"><img src=\"https://colab.research.google.com/assets/colab-badge.svg\" alt=\"Open In Colab\"/></a>"
      ]
    },
    {
      "cell_type": "markdown",
      "metadata": {
        "id": "21uUELma0562"
      },
      "source": [
        "# O Problema\n",
        "Sliding Puzzle - Bloco Deslizante"
      ]
    },
    {
      "cell_type": "code",
      "metadata": {
        "colab": {
          "base_uri": "https://localhost:8080/",
          "height": 218
        },
        "id": "duRbJW3rz01L",
        "outputId": "437b7a47-da16-43a4-f737-fc516280bffc"
      },
      "source": [
        "# !wget -qq https://miro.medium.com/max/700/1*W7jg4GmEjGBypd9WPktasQ.gif\n",
        "from IPython.display import Image\n",
        "Image(url='https://miro.medium.com/max/700/1*W7jg4GmEjGBypd9WPktasQ.gif',width=200)"
      ],
      "execution_count": null,
      "outputs": [
        {
          "output_type": "execute_result",
          "data": {
            "text/plain": [
              "<IPython.core.display.Image object>"
            ],
            "text/html": [
              "<img src=\"https://miro.medium.com/max/700/1*W7jg4GmEjGBypd9WPktasQ.gif\" width=\"200\"/>"
            ]
          },
          "metadata": {},
          "execution_count": 47
        }
      ]
    },
    {
      "cell_type": "markdown",
      "metadata": {
        "id": "f6TPxqB-1Cwx"
      },
      "source": [
        "# Resolver o quebra-cabeças usando Buscas"
      ]
    },
    {
      "cell_type": "code",
      "source": [
        "import numpy as np\n",
        "import time\n",
        "from typing import List"
      ],
      "metadata": {
        "id": "UFSFq_Ne0yjm"
      },
      "execution_count": 2,
      "outputs": []
    },
    {
      "cell_type": "code",
      "source": [
        "def possible_moves(original_board: str) -> List[int]:\n",
        "    \"\"\"\n",
        "    Checa quais são os movimentos possíveis\n",
        "    \"\"\"\n",
        "    moves = []\n",
        "    board = eval(original_board)\n",
        "    i = 0\n",
        "    j = 0\n",
        "    while 0 not in board[i]: \n",
        "        i += 1\n",
        "    j = board[i].index(0)\n",
        "\n",
        "    if i < 2:\n",
        "        board[i][j], board[i+1][j] = board[i+1][j], board[i][j]\n",
        "        moves.append(str(board))\n",
        "        board[i][j], board[i+1][j] = board[i+1][j], board[i][j]\n",
        "\n",
        "    if i > 0:\n",
        "        board[i][j], board[i-1][j] = board[i-1][j], board[i][j]\n",
        "        moves.append(str(board))\n",
        "        board[i][j], board[i-1][j] = board[i-1][j], board[i][j]\n",
        "\n",
        "    if j < 2:\n",
        "        board[i][j], board[i][j+1] = board[i][j+1], board[i][j]\n",
        "        moves.append(str(board))\n",
        "        board[i][j], board[i][j+1] = board[i][j+1], board[i][j]\n",
        "\n",
        "    if j > 0:\n",
        "        board[i][j], board[i][j-1] = board[i][j-1], board[i][j]\n",
        "        moves.append(str(board))\n",
        "        board[i][j], board[i][j-1] = board[i][j-1], board[i][j]\n",
        "    \n",
        "    return moves\n"
      ],
      "metadata": {
        "id": "gta86qXP8qGZ"
      },
      "execution_count": 3,
      "outputs": []
    },
    {
      "cell_type": "markdown",
      "metadata": {
        "id": "o6ZClGCC1RxB"
      },
      "source": [
        "## Busca em largura"
      ]
    },
    {
      "cell_type": "code",
      "source": [
        "def bfs(start: str, end: str) -> str:\n",
        "    \"\"\"\n",
        "    Busca em largura\n",
        "    \"\"\"\n",
        "    visited = []\n",
        "    banco = [[start]]\n",
        "    while banco:\n",
        "        i = 0\n",
        "        way = banco[i]\n",
        "        banco = banco[:i] + banco[i+1:]\n",
        "        final = way[-1]\n",
        "        if final in visited:\n",
        "            continue\n",
        "        for movement in possible_moves(final):\n",
        "            if movement in visited:\n",
        "                continue\n",
        "            banco.append(way + [movement])\n",
        "        visited.append(final)\n",
        "        if final == end: break\n",
        "    return way\n",
        "\n",
        "board = str([\n",
        "            [1,2,3],\n",
        "            [4,5,6],\n",
        "            [7,0,8]\n",
        "            ])\n",
        "\n",
        "correct_board = str([\n",
        "                    [1,2,3],\n",
        "                    [4,5,6],\n",
        "                    [7,8,0]\n",
        "                    ])\n",
        "start = time.time()\n",
        "\n",
        "print(\"Usando Busca em Largura:\")\n",
        "for i in bfs(board, correct_board):\n",
        "    print(i, end=\"\\n\")\n",
        "\n",
        "print(f'Tempo total: {(time.time() - start):.4f} segundos.')"
      ],
      "metadata": {
        "colab": {
          "base_uri": "https://localhost:8080/"
        },
        "id": "zf1tWN7s-MRE",
        "outputId": "a48b58f4-a725-4d75-e227-dd1c48e2a39d"
      },
      "execution_count": 6,
      "outputs": [
        {
          "output_type": "stream",
          "name": "stdout",
          "text": [
            "Usando Busca em Largura:\n",
            "[[1, 2, 3], [4, 5, 6], [7, 0, 8]]\n",
            "[[1, 2, 3], [4, 5, 6], [7, 8, 0]]\n",
            "Tempo total: 0.0006 segundos.\n"
          ]
        }
      ]
    },
    {
      "cell_type": "markdown",
      "metadata": {
        "id": "zCCoey-J1U5t"
      },
      "source": [
        "## Busca em Profundidade"
      ]
    },
    {
      "cell_type": "code",
      "metadata": {
        "id": "XJkS_j3m8A4x"
      },
      "source": [
        ""
      ],
      "execution_count": null,
      "outputs": []
    },
    {
      "cell_type": "markdown",
      "metadata": {
        "id": "rXU5HkCd1ZPu"
      },
      "source": [
        "## Discorra sobre o desempenho dos métodos em questões de:\n",
        "\n",
        "\n",
        "1.   Consumo de memória\n",
        "2.   Processamento\n",
        "\n"
      ]
    },
    {
      "cell_type": "code",
      "metadata": {
        "id": "-M6rztKu1W1j"
      },
      "source": [
        ""
      ],
      "execution_count": null,
      "outputs": []
    }
  ]
}
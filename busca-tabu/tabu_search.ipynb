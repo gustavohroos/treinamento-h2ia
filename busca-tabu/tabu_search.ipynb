{
  "nbformat": 4,
  "nbformat_minor": 0,
  "metadata": {
    "colab": {
      "name": "tabu_search.ipynb",
      "provenance": [],
      "collapsed_sections": [],
      "authorship_tag": "ABX9TyNt6YF+rQXXG+Gcn9xbXCwa",
      "include_colab_link": true
    },
    "kernelspec": {
      "name": "python3",
      "display_name": "Python 3"
    },
    "language_info": {
      "name": "python"
    }
  },
  "cells": [
    {
      "cell_type": "markdown",
      "metadata": {
        "id": "view-in-github",
        "colab_type": "text"
      },
      "source": [
        "<a href=\"https://colab.research.google.com/github/gustavohroos/treinamento-h2ia/blob/main/busca-tabu/tabu_search.ipynb\" target=\"_parent\"><img src=\"https://colab.research.google.com/assets/colab-badge.svg\" alt=\"Open In Colab\"/></a>"
      ]
    },
    {
      "cell_type": "markdown",
      "source": [
        "# Busca Tabu"
      ],
      "metadata": {
        "id": "LRzfgWmQwFwl"
      }
    },
    {
      "cell_type": "markdown",
      "source": [
        "## Problema da mochila\n",
        "![Screenshot_1.png](data:image/png;base64,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)"
      ],
      "metadata": {
        "id": "gcB3yum-wIQi"
      }
    },
    {
      "cell_type": "code",
      "execution_count": 203,
      "metadata": {
        "id": "rVWoKRa-IDt7"
      },
      "outputs": [],
      "source": [
        "import numpy as np\n",
        "import pandas as pd"
      ]
    },
    {
      "cell_type": "code",
      "source": [
        "MAX_WEIGHT = 275\n",
        "weights = np.array([63, 21, 2, 32, 13, 80, 19, 37, 56, 41, 14, 8, 32, 42, 7])\n",
        "values = np.array([13, 2, 20, 10, 7, 14, 7, 2, 2, 4, 16, 17, 17, 3, 21])\n",
        "objects = pd.DataFrame({'weight': weights, 'value': values})\n",
        "objects"
      ],
      "metadata": {
        "colab": {
          "base_uri": "https://localhost:8080/",
          "height": 520
        },
        "id": "Do_4tCwVIUIp",
        "outputId": "cb831393-c74c-4ad1-dea1-9dd7b7e5ad01"
      },
      "execution_count": 204,
      "outputs": [
        {
          "output_type": "execute_result",
          "data": {
            "text/plain": [
              "    weight  value\n",
              "0       63     13\n",
              "1       21      2\n",
              "2        2     20\n",
              "3       32     10\n",
              "4       13      7\n",
              "5       80     14\n",
              "6       19      7\n",
              "7       37      2\n",
              "8       56      2\n",
              "9       41      4\n",
              "10      14     16\n",
              "11       8     17\n",
              "12      32     17\n",
              "13      42      3\n",
              "14       7     21"
            ],
            "text/html": [
              "\n",
              "  <div id=\"df-d2fb6439-a3f5-4951-baec-6ceceaf2b288\">\n",
              "    <div class=\"colab-df-container\">\n",
              "      <div>\n",
              "<style scoped>\n",
              "    .dataframe tbody tr th:only-of-type {\n",
              "        vertical-align: middle;\n",
              "    }\n",
              "\n",
              "    .dataframe tbody tr th {\n",
              "        vertical-align: top;\n",
              "    }\n",
              "\n",
              "    .dataframe thead th {\n",
              "        text-align: right;\n",
              "    }\n",
              "</style>\n",
              "<table border=\"1\" class=\"dataframe\">\n",
              "  <thead>\n",
              "    <tr style=\"text-align: right;\">\n",
              "      <th></th>\n",
              "      <th>weight</th>\n",
              "      <th>value</th>\n",
              "    </tr>\n",
              "  </thead>\n",
              "  <tbody>\n",
              "    <tr>\n",
              "      <th>0</th>\n",
              "      <td>63</td>\n",
              "      <td>13</td>\n",
              "    </tr>\n",
              "    <tr>\n",
              "      <th>1</th>\n",
              "      <td>21</td>\n",
              "      <td>2</td>\n",
              "    </tr>\n",
              "    <tr>\n",
              "      <th>2</th>\n",
              "      <td>2</td>\n",
              "      <td>20</td>\n",
              "    </tr>\n",
              "    <tr>\n",
              "      <th>3</th>\n",
              "      <td>32</td>\n",
              "      <td>10</td>\n",
              "    </tr>\n",
              "    <tr>\n",
              "      <th>4</th>\n",
              "      <td>13</td>\n",
              "      <td>7</td>\n",
              "    </tr>\n",
              "    <tr>\n",
              "      <th>5</th>\n",
              "      <td>80</td>\n",
              "      <td>14</td>\n",
              "    </tr>\n",
              "    <tr>\n",
              "      <th>6</th>\n",
              "      <td>19</td>\n",
              "      <td>7</td>\n",
              "    </tr>\n",
              "    <tr>\n",
              "      <th>7</th>\n",
              "      <td>37</td>\n",
              "      <td>2</td>\n",
              "    </tr>\n",
              "    <tr>\n",
              "      <th>8</th>\n",
              "      <td>56</td>\n",
              "      <td>2</td>\n",
              "    </tr>\n",
              "    <tr>\n",
              "      <th>9</th>\n",
              "      <td>41</td>\n",
              "      <td>4</td>\n",
              "    </tr>\n",
              "    <tr>\n",
              "      <th>10</th>\n",
              "      <td>14</td>\n",
              "      <td>16</td>\n",
              "    </tr>\n",
              "    <tr>\n",
              "      <th>11</th>\n",
              "      <td>8</td>\n",
              "      <td>17</td>\n",
              "    </tr>\n",
              "    <tr>\n",
              "      <th>12</th>\n",
              "      <td>32</td>\n",
              "      <td>17</td>\n",
              "    </tr>\n",
              "    <tr>\n",
              "      <th>13</th>\n",
              "      <td>42</td>\n",
              "      <td>3</td>\n",
              "    </tr>\n",
              "    <tr>\n",
              "      <th>14</th>\n",
              "      <td>7</td>\n",
              "      <td>21</td>\n",
              "    </tr>\n",
              "  </tbody>\n",
              "</table>\n",
              "</div>\n",
              "      <button class=\"colab-df-convert\" onclick=\"convertToInteractive('df-d2fb6439-a3f5-4951-baec-6ceceaf2b288')\"\n",
              "              title=\"Convert this dataframe to an interactive table.\"\n",
              "              style=\"display:none;\">\n",
              "        \n",
              "  <svg xmlns=\"http://www.w3.org/2000/svg\" height=\"24px\"viewBox=\"0 0 24 24\"\n",
              "       width=\"24px\">\n",
              "    <path d=\"M0 0h24v24H0V0z\" fill=\"none\"/>\n",
              "    <path d=\"M18.56 5.44l.94 2.06.94-2.06 2.06-.94-2.06-.94-.94-2.06-.94 2.06-2.06.94zm-11 1L8.5 8.5l.94-2.06 2.06-.94-2.06-.94L8.5 2.5l-.94 2.06-2.06.94zm10 10l.94 2.06.94-2.06 2.06-.94-2.06-.94-.94-2.06-.94 2.06-2.06.94z\"/><path d=\"M17.41 7.96l-1.37-1.37c-.4-.4-.92-.59-1.43-.59-.52 0-1.04.2-1.43.59L10.3 9.45l-7.72 7.72c-.78.78-.78 2.05 0 2.83L4 21.41c.39.39.9.59 1.41.59.51 0 1.02-.2 1.41-.59l7.78-7.78 2.81-2.81c.8-.78.8-2.07 0-2.86zM5.41 20L4 18.59l7.72-7.72 1.47 1.35L5.41 20z\"/>\n",
              "  </svg>\n",
              "      </button>\n",
              "      \n",
              "  <style>\n",
              "    .colab-df-container {\n",
              "      display:flex;\n",
              "      flex-wrap:wrap;\n",
              "      gap: 12px;\n",
              "    }\n",
              "\n",
              "    .colab-df-convert {\n",
              "      background-color: #E8F0FE;\n",
              "      border: none;\n",
              "      border-radius: 50%;\n",
              "      cursor: pointer;\n",
              "      display: none;\n",
              "      fill: #1967D2;\n",
              "      height: 32px;\n",
              "      padding: 0 0 0 0;\n",
              "      width: 32px;\n",
              "    }\n",
              "\n",
              "    .colab-df-convert:hover {\n",
              "      background-color: #E2EBFA;\n",
              "      box-shadow: 0px 1px 2px rgba(60, 64, 67, 0.3), 0px 1px 3px 1px rgba(60, 64, 67, 0.15);\n",
              "      fill: #174EA6;\n",
              "    }\n",
              "\n",
              "    [theme=dark] .colab-df-convert {\n",
              "      background-color: #3B4455;\n",
              "      fill: #D2E3FC;\n",
              "    }\n",
              "\n",
              "    [theme=dark] .colab-df-convert:hover {\n",
              "      background-color: #434B5C;\n",
              "      box-shadow: 0px 1px 3px 1px rgba(0, 0, 0, 0.15);\n",
              "      filter: drop-shadow(0px 1px 2px rgba(0, 0, 0, 0.3));\n",
              "      fill: #FFFFFF;\n",
              "    }\n",
              "  </style>\n",
              "\n",
              "      <script>\n",
              "        const buttonEl =\n",
              "          document.querySelector('#df-d2fb6439-a3f5-4951-baec-6ceceaf2b288 button.colab-df-convert');\n",
              "        buttonEl.style.display =\n",
              "          google.colab.kernel.accessAllowed ? 'block' : 'none';\n",
              "\n",
              "        async function convertToInteractive(key) {\n",
              "          const element = document.querySelector('#df-d2fb6439-a3f5-4951-baec-6ceceaf2b288');\n",
              "          const dataTable =\n",
              "            await google.colab.kernel.invokeFunction('convertToInteractive',\n",
              "                                                     [key], {});\n",
              "          if (!dataTable) return;\n",
              "\n",
              "          const docLinkHtml = 'Like what you see? Visit the ' +\n",
              "            '<a target=\"_blank\" href=https://colab.research.google.com/notebooks/data_table.ipynb>data table notebook</a>'\n",
              "            + ' to learn more about interactive tables.';\n",
              "          element.innerHTML = '';\n",
              "          dataTable['output_type'] = 'display_data';\n",
              "          await google.colab.output.renderOutput(dataTable, element);\n",
              "          const docLink = document.createElement('div');\n",
              "          docLink.innerHTML = docLinkHtml;\n",
              "          element.appendChild(docLink);\n",
              "        }\n",
              "      </script>\n",
              "    </div>\n",
              "  </div>\n",
              "  "
            ]
          },
          "metadata": {},
          "execution_count": 204
        }
      ]
    },
    {
      "cell_type": "code",
      "source": [
        "from typing import List, Tuple, Set\n",
        "from __future__ import annotations\n",
        "from copy import deepcopy\n",
        "\n",
        "class Knapsack:\n",
        "    def __init__(self, \n",
        "                 array: np.ndarray = np.random.randint(2, size=15)) -> None:\n",
        "        self.array = array\n",
        "        self.state = pd.DataFrame(columns=['weight', 'value'])        \n",
        "        self.weight = self.evaluate()[0]\n",
        "        self.value = self.evaluate()[1]\n",
        "        self.add(objects[pd.Series(data=(array == 1))])\n",
        "\n",
        "    def add(self, objects) -> None:\n",
        "        for index, obj in objects.iterrows():\n",
        "            if self.weight + obj['weight'] <= MAX_WEIGHT:\n",
        "                self.state = self.state.append(obj[['weight', 'value']])\n",
        "                self.weight += obj['weight']\n",
        "                self.value += obj['value']\n",
        "\n",
        "    def remove(self, index: int) -> None:\n",
        "        self.state.drop(labels=index, inplace=True)\n",
        "\n",
        "    def indexes(self) -> np.ndarray:\n",
        "        return self.state.index\n",
        "\n",
        "    def evaluate(self) -> Tuple[int, int]:\n",
        "        weight = self.state['weight'].sum()\n",
        "        value = self.state['value'].sum()\n",
        "        return weight, value\n",
        "\n",
        "    def get_weight(self) -> int:\n",
        "        return self.weight\n",
        "\n",
        "    def get_value(self) -> int:\n",
        "        return self.value\n",
        "\n",
        "    def generate_neighbors(self, tabu_list: List[Knapsack]) -> List[Knapsack]:\n",
        "        neighborhood = []\n",
        "        for i in range(len(self.array)):\n",
        "            neighbor = deepcopy(self.array)\n",
        "            if neighbor.all() not in tabu_list:\n",
        "                if neighbor[i] == 0:\n",
        "                    neighbor[i] = 1\n",
        "                else:\n",
        "                    neighbor[i] = 0\n",
        "                neighborhood.append(Knapsack(neighbor))\n",
        "        return neighborhood\n",
        "\n",
        "    def best_neighbor(self, tabu_list: List[Knapsack]) -> Knapsack:\n",
        "        neighborhood = self.generate_neighbors(tabu_list)\n",
        "        best = neighborhood[0]\n",
        "        for neighbor in neighborhood:\n",
        "            if neighbor.evaluate()[1] > best.evaluate()[1]:\n",
        "                best = deepcopy(neighbor)\n",
        "        return best\n",
        "\n",
        "    def __gt__(self, other: Knapsack) -> bool:\n",
        "        return self.value > other.value\n",
        "\n",
        "    def __repr__(self) -> str:\n",
        "        return f'Weight: {self.weight}, value: {self.value}\\n{self.array}\\n{\"=-\"*16}'"
      ],
      "metadata": {
        "id": "rdSxpyleOqKZ"
      },
      "execution_count": 205,
      "outputs": []
    },
    {
      "cell_type": "code",
      "source": [
        "MAX_ITERATIONS = 50\n",
        "TABU_LIST_SIZE = 10\n",
        "\n",
        "def tabu_search(start_knap: Knapsack = Knapsack(), \n",
        "                tabu_list_size: int = TABU_LIST_SIZE, \n",
        "                max_iterations: int = MAX_ITERATIONS) -> Tuple[int, int]:\n",
        "    tabu_list = []\n",
        "    iterations = best_iteration = 0\n",
        "    best_solution = current_solution = start_knap\n",
        "\n",
        "    while iterations - best_iteration <= max_iterations:\n",
        "        iterations += 1\n",
        "        current_solution = current_solution.best_neighbor(tabu_list)\n",
        "        tabu_list.append(current_solution)\n",
        "        if not len(tabu_list) < tabu_list_size:\n",
        "            tabu_list.pop(0)\n",
        "        if current_solution > best_solution:\n",
        "            del best_solution\n",
        "            best_solution = current_solution\n",
        "            best_iteration = iterations\n",
        "    return best_solution"
      ],
      "metadata": {
        "id": "Wtdy8h9s5nhz"
      },
      "execution_count": 206,
      "outputs": []
    },
    {
      "cell_type": "code",
      "source": [
        "%%time\n",
        "tabu_search()"
      ],
      "metadata": {
        "colab": {
          "base_uri": "https://localhost:8080/"
        },
        "id": "ZcFfdYLUD5Ud",
        "outputId": "04de6b3c-442f-444f-c6ec-b4130015fc95"
      },
      "execution_count": 207,
      "outputs": [
        {
          "output_type": "stream",
          "name": "stdout",
          "text": [
            "CPU times: user 19.1 s, sys: 1.01 s, total: 20.1 s\n",
            "Wall time: 18.3 s\n"
          ]
        },
        {
          "output_type": "execute_result",
          "data": {
            "text/plain": [
              "Weight: 270, value: 142\n",
              "[1 0 1 1 1 1 1 0 0 0 1 1 1 1 1]\n",
              "=-=-=-=-=-=-=-=-=-=-=-=-=-=-=-=-"
            ]
          },
          "metadata": {},
          "execution_count": 207
        }
      ]
    },
    {
      "cell_type": "markdown",
      "source": [
        "## Conclusão\n",
        "O algoritmo se mostrou eficiente pois sempre retorna uma solução boa, porém demora cerca de 20~30 segundos para gerar um resultado e muitas vezes não chega na solução ótima (w = 270, v = 142)."
      ],
      "metadata": {
        "id": "KommAtosCXfP"
      }
    }
  ]
}
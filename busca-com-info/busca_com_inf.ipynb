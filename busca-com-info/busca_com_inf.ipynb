{
  "nbformat": 4,
  "nbformat_minor": 0,
  "metadata": {
    "colab": {
      "name": "Busca_com_informação",
      "provenance": [],
      "collapsed_sections": [],
      "include_colab_link": true
    },
    "kernelspec": {
      "name": "python3",
      "display_name": "Python 3"
    },
    "language_info": {
      "name": "python"
    }
  },
  "cells": [
    {
      "cell_type": "markdown",
      "metadata": {
        "id": "view-in-github",
        "colab_type": "text"
      },
      "source": [
        "<a href=\"https://colab.research.google.com/github/gustavohroos/treinamento-h2ia/blob/main/Busca-COM-Info/Busca_com_informa%C3%A7%C3%A3o.ipynb\" target=\"_parent\"><img src=\"https://colab.research.google.com/assets/colab-badge.svg\" alt=\"Open In Colab\"/></a>"
      ]
    },
    {
      "cell_type": "markdown",
      "metadata": {
        "id": "21uUELma0562"
      },
      "source": [
        "# O Problema\n",
        "Sliding Puzzle - Bloco Deslizante"
      ]
    },
    {
      "cell_type": "code",
      "metadata": {
        "colab": {
          "base_uri": "https://localhost:8080/",
          "height": 218
        },
        "id": "duRbJW3rz01L",
        "outputId": "b0e23959-f771-4488-c15e-4f4a9883b334"
      },
      "source": [
        "# !wget -qq https://miro.medium.com/max/700/1*W7jg4GmEjGBypd9WPktasQ.gif\n",
        "from IPython.display import Image\n",
        "Image(url='https://miro.medium.com/max/700/1*W7jg4GmEjGBypd9WPktasQ.gif',width=200)"
      ],
      "execution_count": 173,
      "outputs": [
        {
          "output_type": "execute_result",
          "data": {
            "text/plain": [
              "<IPython.core.display.Image object>"
            ],
            "text/html": [
              "<img src=\"https://miro.medium.com/max/700/1*W7jg4GmEjGBypd9WPktasQ.gif\" width=\"200\"/>"
            ]
          },
          "metadata": {},
          "execution_count": 173
        }
      ]
    },
    {
      "cell_type": "markdown",
      "metadata": {
        "id": "f6TPxqB-1Cwx"
      },
      "source": [
        "# Resolver o quebra-cabeças usando Buscas"
      ]
    },
    {
      "cell_type": "code",
      "metadata": {
        "id": "cmJfg8CF0Jwc"
      },
      "source": [
        "import numpy as np\n",
        "import time\n",
        "from typing import List\n",
        "from copy import deepcopy\n",
        "from queue import PriorityQueue\n",
        "from sys import getsizeof"
      ],
      "execution_count": 174,
      "outputs": []
    },
    {
      "cell_type": "code",
      "source": [
        "class Node:\n",
        "    def __init__(self, puzzle: List[int], parent: object = None) -> None:\n",
        "        self.children = []\n",
        "        self.parent = parent\n",
        "        self.moves = []\n",
        "        self.puzzle = np.array(puzzle)\n",
        "        self.h = self.get_heuristic()\n",
        "        if (self.parent != None):\n",
        "            self.g = parent.g + 1\n",
        "        else:\n",
        "            self.g = 0\n",
        "        self.f = self.g + self.h\n",
        "\n",
        "    def __eq__(self, other: object) -> bool:\n",
        "        return (self.puzzle == other.puzzle).all()\n",
        "\n",
        "    def __gt__(self, other: object) -> bool:\n",
        "        return (self.f > other.f)\n",
        "    \n",
        "    def __repr__(self) -> str:\n",
        "        return (str(self.puzzle[0]) + '\\n' + \n",
        "                str(self.puzzle[1]) + '\\n' + \n",
        "                str(self.puzzle[2]) + '\\n')\n",
        "    \n",
        "    def expand_node(self) -> None:\n",
        "        \n",
        "        i, j = np.where(self.puzzle == 0)\n",
        "\n",
        "        if j > 0: #Moves left\n",
        "            pc = deepcopy(self.puzzle)\n",
        "            pc[i, j-1], pc[i, j] = pc[i, j], pc[i, j-1]\n",
        "            self.add_child(pc)\n",
        "\n",
        "        if j < 2: #Moves right\n",
        "            pc = deepcopy(self.puzzle)\n",
        "            pc[i, j+1], pc[i, j] = pc[i, j], pc[i, j+1]\n",
        "            self.add_child(pc)\n",
        "        \n",
        "        if i > 0: #Moves up\n",
        "            pc = deepcopy(self.puzzle)\n",
        "            pc[i-1, j], pc[i, j] = pc[i, j], pc[i-1, j]\n",
        "            self.add_child(pc)\n",
        "        \n",
        "        if i < 2: #Moves down\n",
        "            pc = deepcopy(self.puzzle)\n",
        "            pc[i+1, j], pc[i, j] = pc[i, j], pc[i+1, j]\n",
        "            self.add_child(pc)\n",
        "\n",
        "    def add_child(self, array: np.array) -> None:\n",
        "        child = Node(array)\n",
        "        self.children.append(child)\n",
        "        child.parent = self\n",
        "\n",
        "    def get_heuristic(self) -> int:\n",
        "        correct = np.array([[1, 2, 3],\n",
        "                            [4, 5, 6], \n",
        "                            [7, 8, 0]])\n",
        "        h = 0\n",
        "        for index1, x1 in np.ndenumerate(correct):\n",
        "            for index2, x2 in np.ndenumerate(self.puzzle):\n",
        "                if x1 == x2 and index1 != index2 and x1 != 0:\n",
        "                    h += abs(index1[0] - index2[0]) + abs(index1[1] - index2[1])\n",
        "        return h\n",
        "\n",
        "def path_tracer(node: Node) -> List[Node]:\n",
        "        current = node\n",
        "        path = []\n",
        "        path.append(current)\n",
        "\n",
        "        while current.parent is not None:\n",
        "            current = current.parent\n",
        "            path.append(current)\n",
        "        \n",
        "        path.reverse()\n",
        "\n",
        "        return path\n",
        "\n",
        "puzzle = [[0,8,7],[6,5,4],[3,2,1]] #Harder\n",
        "# puzzle = [[1, 2, 3], [4, 0, 6], [7, 5, 8]] #Easier to test\n",
        "\n",
        "root = Node(puzzle)"
      ],
      "metadata": {
        "id": "SXZ7bdFbxI-M"
      },
      "execution_count": 175,
      "outputs": []
    },
    {
      "cell_type": "markdown",
      "metadata": {
        "id": "o6ZClGCC1RxB"
      },
      "source": [
        "## Busca com informação"
      ]
    },
    {
      "cell_type": "code",
      "source": [
        "def astar_search(root: Node) -> List[Node]:\n",
        "        path = []\n",
        "        open_list = PriorityQueue()\n",
        "        open_list.put((root.f, root))\n",
        "        closed_list = set()\n",
        "        goal_found = False\n",
        "        expected = Node([[1, 2, 3], [4, 5, 6], [7, 8, 0]])\n",
        "        count = 0\n",
        "\n",
        "        if root == expected:\n",
        "            goal_found = True\n",
        "\n",
        "        while open_list and not goal_found:\n",
        "            f, current_node = open_list.get()\n",
        "            closed_list.add(str(current_node.puzzle))\n",
        "            current_node.expand_node()\n",
        "\n",
        "            for child in current_node.children:\n",
        "                if child == expected:\n",
        "                    goal_found = True\n",
        "                    path = path_tracer(child)\n",
        "                \n",
        "                if str(child.puzzle) not in closed_list:\n",
        "                    open_list.put((child.f, child))\n",
        "                    count += 1\n",
        "                    \n",
        "        return path, count\n",
        "\n",
        "start = time.time()\n",
        "solution, count = astar_search(root)\n",
        "\n",
        "if solution:\n",
        "    print('Goal found.')\n",
        "    print(f'It takes {count} nodes.')\n",
        "    print(f'Solution in {len(solution)} steps.')\n",
        "    print(solution[0], solution[-1], sep='-------\\n')\n",
        "    print(f'Time taken: {(time.time() - start):.4f} seconds.')\n",
        "else:\n",
        "    print('No path to solution is found')"
      ],
      "metadata": {
        "id": "kxpveI-LxOsG",
        "colab": {
          "base_uri": "https://localhost:8080/"
        },
        "outputId": "f7235d14-380b-4f30-baf1-2d118b30ba31"
      },
      "execution_count": 176,
      "outputs": [
        {
          "output_type": "stream",
          "name": "stdout",
          "text": [
            "Goal found.\n",
            "It takes 52 nodes.\n",
            "Solution in 29 steps.\n",
            "[0 8 7]\n",
            "[6 5 4]\n",
            "[3 2 1]\n",
            "-------\n",
            "[1 2 3]\n",
            "[4 5 6]\n",
            "[7 8 0]\n",
            "\n",
            "Time taken: 0.0183 seconds.\n"
          ]
        }
      ]
    },
    {
      "cell_type": "code",
      "source": [
        "print('Steps:')\n",
        "for i in range(len(solution)):\n",
        "    print(f'Step {i+1}')\n",
        "    print(solution[i])"
      ],
      "metadata": {
        "colab": {
          "base_uri": "https://localhost:8080/"
        },
        "id": "rrgbTEe3tftw",
        "outputId": "dda46708-8b93-4b17-e19e-9eb9ae6b1d8d"
      },
      "execution_count": 181,
      "outputs": [
        {
          "output_type": "stream",
          "name": "stdout",
          "text": [
            "Steps:\n",
            "Step 1\n",
            "[0 8 7]\n",
            "[6 5 4]\n",
            "[3 2 1]\n",
            "\n",
            "Step 2\n",
            "[8 0 7]\n",
            "[6 5 4]\n",
            "[3 2 1]\n",
            "\n",
            "Step 3\n",
            "[8 7 0]\n",
            "[6 5 4]\n",
            "[3 2 1]\n",
            "\n",
            "Step 4\n",
            "[8 7 4]\n",
            "[6 5 0]\n",
            "[3 2 1]\n",
            "\n",
            "Step 5\n",
            "[8 7 4]\n",
            "[6 5 1]\n",
            "[3 2 0]\n",
            "\n",
            "Step 6\n",
            "[8 7 4]\n",
            "[6 5 1]\n",
            "[3 0 2]\n",
            "\n",
            "Step 7\n",
            "[8 7 4]\n",
            "[6 5 1]\n",
            "[0 3 2]\n",
            "\n",
            "Step 8\n",
            "[8 7 4]\n",
            "[0 5 1]\n",
            "[6 3 2]\n",
            "\n",
            "Step 9\n",
            "[0 7 4]\n",
            "[8 5 1]\n",
            "[6 3 2]\n",
            "\n",
            "Step 10\n",
            "[7 0 4]\n",
            "[8 5 1]\n",
            "[6 3 2]\n",
            "\n",
            "Step 11\n",
            "[7 4 0]\n",
            "[8 5 1]\n",
            "[6 3 2]\n",
            "\n",
            "Step 12\n",
            "[7 4 1]\n",
            "[8 5 0]\n",
            "[6 3 2]\n",
            "\n",
            "Step 13\n",
            "[7 4 1]\n",
            "[8 5 2]\n",
            "[6 3 0]\n",
            "\n",
            "Step 14\n",
            "[7 4 1]\n",
            "[8 5 2]\n",
            "[6 0 3]\n",
            "\n",
            "Step 15\n",
            "[7 4 1]\n",
            "[8 5 2]\n",
            "[0 6 3]\n",
            "\n",
            "Step 16\n",
            "[7 4 1]\n",
            "[0 5 2]\n",
            "[8 6 3]\n",
            "\n",
            "Step 17\n",
            "[0 4 1]\n",
            "[7 5 2]\n",
            "[8 6 3]\n",
            "\n",
            "Step 18\n",
            "[4 0 1]\n",
            "[7 5 2]\n",
            "[8 6 3]\n",
            "\n",
            "Step 19\n",
            "[4 1 0]\n",
            "[7 5 2]\n",
            "[8 6 3]\n",
            "\n",
            "Step 20\n",
            "[4 1 2]\n",
            "[7 5 0]\n",
            "[8 6 3]\n",
            "\n",
            "Step 21\n",
            "[4 1 2]\n",
            "[7 5 3]\n",
            "[8 6 0]\n",
            "\n",
            "Step 22\n",
            "[4 1 2]\n",
            "[7 5 3]\n",
            "[8 0 6]\n",
            "\n",
            "Step 23\n",
            "[4 1 2]\n",
            "[7 5 3]\n",
            "[0 8 6]\n",
            "\n",
            "Step 24\n",
            "[4 1 2]\n",
            "[0 5 3]\n",
            "[7 8 6]\n",
            "\n",
            "Step 25\n",
            "[0 1 2]\n",
            "[4 5 3]\n",
            "[7 8 6]\n",
            "\n",
            "Step 26\n",
            "[1 0 2]\n",
            "[4 5 3]\n",
            "[7 8 6]\n",
            "\n",
            "Step 27\n",
            "[1 2 0]\n",
            "[4 5 3]\n",
            "[7 8 6]\n",
            "\n",
            "Step 28\n",
            "[1 2 3]\n",
            "[4 5 0]\n",
            "[7 8 6]\n",
            "\n",
            "Step 29\n",
            "[1 2 3]\n",
            "[4 5 6]\n",
            "[7 8 0]\n",
            "\n"
          ]
        }
      ]
    },
    {
      "cell_type": "markdown",
      "metadata": {
        "id": "rXU5HkCd1ZPu"
      },
      "source": [
        "## Discorra sobre o desempenho dos métodos em questões de:\n",
        "\n",
        "\n",
        "1.   Consumo de memória\n",
        "2.   Processamento\n",
        "\n",
        "Ao contrário dos algoritmos de busca em largura e busca em profundidade, que, além de demorarem até 48 minutos para encontrar o caminho e utilizarem milhares de nodos, o algoritmo com informação foi capaz de encontrar o mesmo caminho em menos de 1 segundo utilizando apenas 52 nodos. Isso foi possível através da heurística, a qual consegue indicar ao algoritmo qual o próximo passo a ser explorado.\n",
        "\n"
      ]
    }
  ]
}
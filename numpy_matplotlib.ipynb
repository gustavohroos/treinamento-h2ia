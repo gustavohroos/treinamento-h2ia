{
  "nbformat": 4,
  "nbformat_minor": 0,
  "metadata": {
    "colab": {
      "name": "numpy_matplotlib.ipynb",
      "provenance": [],
      "collapsed_sections": [],
      "authorship_tag": "ABX9TyNLDKCmScFKOD7S6dc5ogZO",
      "include_colab_link": true
    },
    "kernelspec": {
      "name": "python3",
      "display_name": "Python 3"
    },
    "language_info": {
      "name": "python"
    }
  },
  "cells": [
    {
      "cell_type": "markdown",
      "metadata": {
        "id": "view-in-github",
        "colab_type": "text"
      },
      "source": [
        "<a href=\"https://colab.research.google.com/github/gustavohroos/treinamento-h2ia/blob/main/numpy_matplotlib.ipynb\" target=\"_parent\"><img src=\"https://colab.research.google.com/assets/colab-badge.svg\" alt=\"Open In Colab\"/></a>"
      ]
    },
    {
      "cell_type": "markdown",
      "source": [
        "#Introdução\n",
        "Numpy é uma biblioteca para computação científica, que aumenta a performance da linguagem para lidar com arrays multidimensionais e adiciona algumas ferramentas para manipular eles"
      ],
      "metadata": {
        "id": "ATdKKIrdcQWy"
      }
    },
    {
      "cell_type": "markdown",
      "source": [
        "Importando a biblioteca"
      ],
      "metadata": {
        "id": "goag5vR1c9Cy"
      }
    },
    {
      "cell_type": "code",
      "execution_count": null,
      "metadata": {
        "id": "zKa547febtbl"
      },
      "outputs": [],
      "source": [
        "import numpy as np"
      ]
    }
  ]
}
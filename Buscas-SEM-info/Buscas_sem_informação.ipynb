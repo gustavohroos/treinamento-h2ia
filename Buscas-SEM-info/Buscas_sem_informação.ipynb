{
  "nbformat": 4,
  "nbformat_minor": 0,
  "metadata": {
    "colab": {
      "name": "Buscas sem informação.ipynb",
      "provenance": [],
      "collapsed_sections": [],
      "include_colab_link": true
    },
    "kernelspec": {
      "name": "python3",
      "display_name": "Python 3"
    },
    "language_info": {
      "name": "python"
    }
  },
  "cells": [
    {
      "cell_type": "markdown",
      "metadata": {
        "id": "view-in-github",
        "colab_type": "text"
      },
      "source": [
        "<a href=\"https://colab.research.google.com/github/gustavohroos/treinamento-h2ia/blob/main/Buscas-SEM-info/Buscas_sem_informa%C3%A7%C3%A3o.ipynb\" target=\"_parent\"><img src=\"https://colab.research.google.com/assets/colab-badge.svg\" alt=\"Open In Colab\"/></a>"
      ]
    },
    {
      "cell_type": "markdown",
      "metadata": {
        "id": "21uUELma0562"
      },
      "source": [
        "# O Problema\n",
        "Sliding Puzzle - Bloco Deslizante"
      ]
    },
    {
      "cell_type": "code",
      "metadata": {
        "colab": {
          "base_uri": "https://localhost:8080/",
          "height": 218
        },
        "id": "duRbJW3rz01L",
        "outputId": "437b7a47-da16-43a4-f737-fc516280bffc"
      },
      "source": [
        "# !wget -qq https://miro.medium.com/max/700/1*W7jg4GmEjGBypd9WPktasQ.gif\n",
        "from IPython.display import Image\n",
        "Image(url='https://miro.medium.com/max/700/1*W7jg4GmEjGBypd9WPktasQ.gif',width=200)"
      ],
      "execution_count": 47,
      "outputs": [
        {
          "output_type": "execute_result",
          "data": {
            "text/plain": [
              "<IPython.core.display.Image object>"
            ],
            "text/html": [
              "<img src=\"https://miro.medium.com/max/700/1*W7jg4GmEjGBypd9WPktasQ.gif\" width=\"200\"/>"
            ]
          },
          "metadata": {},
          "execution_count": 47
        }
      ]
    },
    {
      "cell_type": "markdown",
      "metadata": {
        "id": "f6TPxqB-1Cwx"
      },
      "source": [
        "# Resolver o quebra-cabeças usando Buscas"
      ]
    },
    {
      "cell_type": "code",
      "source": [
        "import numpy as np\n",
        "import time\n",
        "from typing import List"
      ],
      "metadata": {
        "id": "UFSFq_Ne0yjm"
      },
      "execution_count": 73,
      "outputs": []
    },
    {
      "cell_type": "code",
      "source": [
        "def move(tab_original: str) -> List[int]:\n",
        "    \"\"\"\n",
        "    Checa quais são os movimentos possíveis\n",
        "    \"\"\"\n",
        "    moves = []\n",
        "    tab = eval(tab_original)\n",
        "    i = 0\n",
        "    j = 0\n",
        "    while 0 not in tab[i]: \n",
        "        i += 1\n",
        "    j = tab[i].index(0)\n",
        "\n",
        "    if i < 2:\n",
        "        tab[i][j], tab[i+1][j] = tab[i+1][j], tab[i][j]\n",
        "        moves.append(str(tab))\n",
        "        tab[i][j], tab[i+1][j] = tab[i+1][j], tab[i][j]\n",
        "\n",
        "    if i > 0:\n",
        "        tab[i][j], tab[i-1][j] = tab[i-1][j], tab[i][j]\n",
        "        moves.append(str(tab))\n",
        "        tab[i][j], tab[i-1][j] = tab[i-1][j], tab[i][j]\n",
        "\n",
        "    if j < 2:\n",
        "        tab[i][j], tab[i][j+1] = tab[i][j+1], tab[i][j]\n",
        "        moves.append(str(tab))\n",
        "        tab[i][j], tab[i][j+1] = tab[i][j+1], tab[i][j]\n",
        "\n",
        "    if j > 0:\n",
        "        tab[i][j], tab[i][j-1] = tab[i][j-1], tab[i][j]\n",
        "        moves.append(str(tab))\n",
        "        tab[i][j], tab[i][j-1] = tab[i][j-1], tab[i][j]\n",
        "    \n",
        "    return moves\n"
      ],
      "metadata": {
        "id": "gta86qXP8qGZ"
      },
      "execution_count": 68,
      "outputs": []
    },
    {
      "cell_type": "markdown",
      "metadata": {
        "id": "o6ZClGCC1RxB"
      },
      "source": [
        "## Busca em largura"
      ]
    },
    {
      "cell_type": "code",
      "source": [
        "def bfs(start, end):\n",
        "    \"\"\"\n",
        "    Busca em largura\n",
        "    \"\"\"\n",
        "    explorado = []\n",
        "    banco = [[start]]\n",
        "    while banco:\n",
        "        i = 0\n",
        "        caminho = banco[i]\n",
        "        banco = banco[:i] + banco[i+1:]\n",
        "        final = caminho[-1]\n",
        "        if final in explorado:\n",
        "            continue\n",
        "        for movement in move(final):\n",
        "            if movement in explorado:\n",
        "                continue\n",
        "            banco.append(caminho + [movement])\n",
        "        explorado.append(final)\n",
        "        if final == end: break\n",
        "        i += 1\n",
        "    return caminho\n",
        "\n",
        "tabuleiro = str([\n",
        "                [1,6,5],\n",
        "                [7,3,8],\n",
        "                [0,4,2]\n",
        "            ])\n",
        "\n",
        "obj_final = str([\n",
        "                [1,2,3],\n",
        "                [4,5,6],\n",
        "                [7,8,0]\n",
        "            ])\n",
        "start = time.time()\n",
        "\n",
        "print(\"Usando Busca em Largura:\")\n",
        "for i in bfs(tabuleiro,obj_final):\n",
        "    print(i, end=\"\\n\")\n",
        "\n",
        "print(f'Tempo total: {(time.time() - start):.4f} segundos.')"
      ],
      "metadata": {
        "colab": {
          "base_uri": "https://localhost:8080/"
        },
        "id": "zf1tWN7s-MRE",
        "outputId": "98347dc7-eb60-4921-dc4a-498f4637bcbc"
      },
      "execution_count": null,
      "outputs": [
        {
          "output_type": "stream",
          "name": "stdout",
          "text": [
            "Usando Busca em Largura:\n"
          ]
        }
      ]
    },
    {
      "cell_type": "markdown",
      "metadata": {
        "id": "zCCoey-J1U5t"
      },
      "source": [
        "## Busca em Profundidade"
      ]
    },
    {
      "cell_type": "code",
      "metadata": {
        "id": "XJkS_j3m8A4x"
      },
      "source": [
        ""
      ],
      "execution_count": null,
      "outputs": []
    },
    {
      "cell_type": "markdown",
      "metadata": {
        "id": "rXU5HkCd1ZPu"
      },
      "source": [
        "## Discorra sobre o desempenho dos métodos em questões de:\n",
        "\n",
        "\n",
        "1.   Consumo de memória\n",
        "2.   Processamento\n",
        "\n"
      ]
    },
    {
      "cell_type": "code",
      "metadata": {
        "id": "-M6rztKu1W1j"
      },
      "source": [
        ""
      ],
      "execution_count": null,
      "outputs": []
    }
  ]
}
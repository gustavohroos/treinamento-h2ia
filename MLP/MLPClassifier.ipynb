{
  "nbformat": 4,
  "nbformat_minor": 0,
  "metadata": {
    "colab": {
      "provenance": [],
      "collapsed_sections": [],
      "authorship_tag": "ABX9TyOZrdo/i4YMkYyoYeZ4oS3D",
      "include_colab_link": true
    },
    "kernelspec": {
      "name": "python3",
      "display_name": "Python 3"
    },
    "language_info": {
      "name": "python"
    }
  },
  "cells": [
    {
      "cell_type": "markdown",
      "metadata": {
        "id": "view-in-github",
        "colab_type": "text"
      },
      "source": [
        "<a href=\"https://colab.research.google.com/github/gustavohroos/treinamento-h2ia/blob/main/MLP/MLPClassifier.ipynb\" target=\"_parent\"><img src=\"https://colab.research.google.com/assets/colab-badge.svg\" alt=\"Open In Colab\"/></a>"
      ]
    },
    {
      "cell_type": "code",
      "execution_count": 46,
      "metadata": {
        "id": "QuXpWbxab9-E"
      },
      "outputs": [],
      "source": [
        "from sklearn.preprocessing import StandardScaler\n",
        "from keras.datasets import mnist\n",
        "from sklearn.model_selection import train_test_split\n",
        "from tqdm import trange\n",
        "from IPython.core.display import clear_output\n",
        "import matplotlib.pyplot as plt\n",
        "import numpy as np\n",
        "import pandas as pd"
      ]
    },
    {
      "cell_type": "code",
      "source": [
        "def load_dataset(flatten=False):\n",
        "    (X_train, y_train), (X_test, y_test) = mnist.load_data()\n",
        "\n",
        "    X_train = X_train.astype(float) / 255.\n",
        "    X_test = X_test.astype(float) / 255.\n",
        "\n",
        "    X_train, X_val = X_train[:-10000], X_train[-10000:]\n",
        "    y_train, y_val = y_train[:-10000], y_train[-10000:]\n",
        "    \n",
        "    X_train = X_train.reshape([X_train.shape[0], -1])\n",
        "    X_val = X_val.reshape([X_val.shape[0], -1])\n",
        "    X_test = X_test.reshape([X_test.shape[0], -1])\n",
        "\n",
        "    return X_train, y_train, X_val, y_val, X_test, y_test\n",
        "    \n",
        "X_train, y_train, X_val, y_val, X_test, y_test = load_dataset(flatten=True)\n",
        "plt.figure(figsize=[6,6])\n",
        "for i in range(4):\n",
        "    plt.subplot(2,2,i+1)\n",
        "    plt.title(\"Label: %i\"%y_train[i])\n",
        "    plt.imshow(X_train[i].reshape([28,28]),cmap='gray');"
      ],
      "metadata": {
        "id": "HxOzljCYcaUs",
        "colab": {
          "base_uri": "https://localhost:8080/",
          "height": 390
        },
        "outputId": "64c4c987-1fd1-4fb2-8867-a6e7873bf676"
      },
      "execution_count": 47,
      "outputs": [
        {
          "output_type": "display_data",
          "data": {
            "text/plain": [
              "<Figure size 432x432 with 4 Axes>"
            ],
            "image/png": "[encoded data removed]"
          },
          "metadata": {
            "needs_background": "light"
          }
        }
      ]
    },
    {
      "cell_type": "code",
      "source": [
        "class Layer:\n",
        "    def forward(self, input):\n",
        "        return input\n",
        "\n",
        "    def backward(self, input, grad_output):\n",
        "        num_units = input.shape[1]\n",
        "        \n",
        "        d_layer_d_input = np.eye(num_units)\n",
        "        \n",
        "        return np.dot(grad_output, d_layer_d_input)"
      ],
      "metadata": {
        "id": "lUTdsmpN6wbX"
      },
      "execution_count": 48,
      "outputs": []
    },
    {
      "cell_type": "code",
      "source": [
        "class ReLU(Layer):\n",
        "    def forward(self, input):\n",
        "        return np.maximum(input, 0)\n",
        "\n",
        "    def backward(self, input, grad_output):\n",
        "        return grad_output * (input > 0)"
      ],
      "metadata": {
        "id": "EI3VpROc7rvv"
      },
      "execution_count": 49,
      "outputs": []
    },
    {
      "cell_type": "code",
      "source": [
        "class Dense(Layer):\n",
        "    def __init__(self, n_inputs, n_outputs, learning_rate=0.1):\n",
        "        self.n_inputs = n_inputs\n",
        "        self.n_outputs = n_outputs\n",
        "        self.learning_rate = learning_rate\n",
        "        self.weights = np.random.normal(loc=0.0,\n",
        "                                        scale=np.sqrt(2/(n_inputs+n_outputs)),\n",
        "                                        size=(n_inputs, n_outputs))\n",
        "        \n",
        "    def forward(self, input):\n",
        "        return np.dot(input, self.weights)\n",
        "\n",
        "    def backward(self, input, grad_output):\n",
        "        grad_input = np.dot(grad_output, self.weights.T)\n",
        "        grad_weights = np.dot(input.T, grad_output)\n",
        "\n",
        "        assert grad_weights.shape == self.weights.shape\n",
        "\n",
        "        self.weights = self.weights - self.learning_rate * grad_weights\n",
        "\n",
        "        return grad_input\n"
      ],
      "metadata": {
        "id": "QyM2OYrZB0g8"
      },
      "execution_count": 50,
      "outputs": []
    },
    {
      "cell_type": "code",
      "source": [
        "def softmax_crossentropy_with_logits(logits, target):\n",
        "    logits_for_answers = logits[:, target]\n",
        "    xentropy = - logits_for_answers + np.log(np.sum(np.exp(logits), axis=-1))\n",
        "\n",
        "    return xentropy\n",
        "\n",
        "def grad_softmax_crossentropy_with_logits(logits, target):\n",
        "    ones_for_answers = np.zeros_like(logits)\n",
        "    ones_for_answers[np.arange(len(logits)), target] = 1\n",
        "\n",
        "    softmax = np.exp(logits) / np.sum(np.exp(logits), axis=-1, keepdims=True)\n",
        "\n",
        "    return (- ones_for_answers + softmax) / logits.shape[0]"
      ],
      "metadata": {
        "id": "yW0FV8lgD9aY"
      },
      "execution_count": 51,
      "outputs": []
    },
    {
      "cell_type": "code",
      "source": [
        "class MLP:\n",
        "\n",
        "    def __init__(self):\n",
        "        self.network = []\n",
        "\n",
        "    def add_layer(self, layer, hidden=True):\n",
        "        self.network.append(layer)\n",
        "        if hidden: self.network.append(ReLU())\n",
        "        \n",
        "    def forward(self, X):\n",
        "        activations = []\n",
        "        input = X\n",
        "\n",
        "        for layer in self.network:\n",
        "            activations.append(layer.forward(input))\n",
        "            input = activations[-1]\n",
        "\n",
        "        \n",
        "        assert len(activations) == len(self.network)\n",
        "\n",
        "        return activations\n",
        "\n",
        "    def predict(self, X):\n",
        "        logits = self.forward(X)[-1]\n",
        "        return np.argmax(logits, axis=-1)\n",
        "\n",
        "    def fit(self, X, y):          \n",
        "\n",
        "        layer_activations = self.forward(X)\n",
        "        layer_inputs = [X]+layer_activations\n",
        "        logits = layer_activations[-1]\n",
        "\n",
        "        self.loss = softmax_crossentropy_with_logits(logits, y)\n",
        "        loss_grad = grad_softmax_crossentropy_with_logits(logits, y)\n",
        "\n",
        "        for layer_index in range(len(self.network))[::-1]:\n",
        "            layer = self.network[layer_index]\n",
        "\n",
        "            loss_grad = layer.backward(layer_inputs[layer_index], loss_grad)\n",
        "        \n",
        "        return self.loss\n",
        "\n",
        "    def print_layers(self):\n",
        "        count = 0\n",
        "        count_layer = 1\n",
        "        for index, layer in enumerate(self.network):\n",
        "            if count%2 == 0: \n",
        "                print(f'Layer {count_layer} shape: {layer.weights.shape}')\n",
        "                count_layer += 1\n",
        "            count +=1"
      ],
      "metadata": {
        "id": "5N3fMrGxbYGW"
      },
      "execution_count": 52,
      "outputs": []
    },
    {
      "cell_type": "code",
      "source": [
        "model = MLP()\n",
        "model.add_layer(Dense(X_train.shape[1], 200))\n",
        "model.add_layer(Dense(200, 200))\n",
        "model.add_layer(Dense(200, 100))\n",
        "model.add_layer(Dense(100, 10), hidden=False)\n",
        "model.print_layers()"
      ],
      "metadata": {
        "id": "XfyCrTBr8MJl",
        "colab": {
          "base_uri": "https://localhost:8080/"
        },
        "outputId": "854bd378-8d28-4f57-b5af-4728b490d164"
      },
      "execution_count": 53,
      "outputs": [
        {
          "output_type": "stream",
          "name": "stdout",
          "text": [
            "Layer 1 shape: (784, 200)\n",
            "Layer 2 shape: (200, 200)\n",
            "Layer 3 shape: (200, 100)\n",
            "Layer 4 shape: (100, 10)\n"
          ]
        }
      ]
    },
    {
      "cell_type": "code",
      "source": [
        "def iterate_minibatches(inputs, targets, batchsize, shuffle=False):\n",
        "    assert len(inputs) == len(targets)\n",
        "    \n",
        "    if shuffle: indices = np.random.permutation(len(inputs))\n",
        "    \n",
        "    for start_idx in trange(0, len(inputs) - batchsize + 1, batchsize):\n",
        "        if shuffle: excerpt = indices[start_idx:start_idx + batchsize]\n",
        "        else: excerpt = slice(start_idx, start_idx + batchsize)\n",
        "        \n",
        "        yield inputs[excerpt], targets[excerpt]\n",
        "        \n",
        "def train_epochs(X_train, y_train, model, X_val, y_val):\n",
        "    train_log = []\n",
        "    val_log = []\n",
        "    print(\"Untrained network\")\n",
        "    print(\"Train accuracy:\",np.mean(model.predict(X_train)==y_train))\n",
        "    print(\"Val accuracy:\",np.mean(model.predict(X_val)==y_val))\n",
        "    for epoch in range(10):\n",
        "        for x_batch,y_batch in iterate_minibatches(X_train,y_train,batchsize=32,shuffle=True):\n",
        "            model.fit(x_batch,y_batch)\n",
        "        train_log.append(np.mean(model.predict(X_train)==y_train))\n",
        "        val_log.append(np.mean(model.predict(X_val)==y_val))\n",
        "        # clear_output()\n",
        "        print(\"Epoch\",epoch+1)\n",
        "        print(\"Train accuracy:\",train_log[-1])\n",
        "        print(\"Val accuracy:\",val_log[-1])\n",
        "    return train_log, val_log"
      ],
      "metadata": {
        "id": "BOhKz7ZmfW9G"
      },
      "execution_count": 54,
      "outputs": []
    },
    {
      "cell_type": "code",
      "source": [
        "model = MLP()\n",
        "model.add_layer(Dense(784, 200))\n",
        "model.add_layer(Dense(200, 100))\n",
        "model.add_layer(Dense(100, 10), hidden=False)"
      ],
      "metadata": {
        "id": "bQdGhInJwbCb"
      },
      "execution_count": 55,
      "outputs": []
    },
    {
      "cell_type": "code",
      "source": [
        "train_log, val_log = train_epochs(X_train, y_train, model, X_val, y_val)"
      ],
      "metadata": {
        "colab": {
          "base_uri": "https://localhost:8080/"
        },
        "id": "BuArA3raM3Ip",
        "outputId": "85f2fd72-9b9d-49aa-be1c-065fb8c5ae2c"
      },
      "execution_count": 56,
      "outputs": [
        {
          "output_type": "stream",
          "name": "stdout",
          "text": [
            "Untrained network\n",
            "Train accuracy: 0.07584\n",
            "Val accuracy: 0.0779\n"
          ]
        },
        {
          "output_type": "stream",
          "name": "stderr",
          "text": [
            "100%|██████████| 1562/1562 [00:06<00:00, 253.90it/s]\n"
          ]
        },
        {
          "output_type": "stream",
          "name": "stdout",
          "text": [
            "Epoch 1\n",
            "Train accuracy: 0.95804\n",
            "Val accuracy: 0.9586\n"
          ]
        },
        {
          "output_type": "stream",
          "name": "stderr",
          "text": [
            "100%|██████████| 1562/1562 [00:06<00:00, 253.89it/s]\n"
          ]
        },
        {
          "output_type": "stream",
          "name": "stdout",
          "text": [
            "Epoch 2\n",
            "Train accuracy: 0.9647\n",
            "Val accuracy: 0.9599\n"
          ]
        },
        {
          "output_type": "stream",
          "name": "stderr",
          "text": [
            "100%|██████████| 1562/1562 [00:06<00:00, 255.25it/s]\n"
          ]
        },
        {
          "output_type": "stream",
          "name": "stdout",
          "text": [
            "Epoch 3\n",
            "Train accuracy: 0.9822\n",
            "Val accuracy: 0.9715\n"
          ]
        },
        {
          "output_type": "stream",
          "name": "stderr",
          "text": [
            "100%|██████████| 1562/1562 [00:06<00:00, 253.43it/s]\n"
          ]
        },
        {
          "output_type": "stream",
          "name": "stdout",
          "text": [
            "Epoch 4\n",
            "Train accuracy: 0.98724\n",
            "Val accuracy: 0.9762\n"
          ]
        },
        {
          "output_type": "stream",
          "name": "stderr",
          "text": [
            "100%|██████████| 1562/1562 [00:06<00:00, 255.70it/s]\n"
          ]
        },
        {
          "output_type": "stream",
          "name": "stdout",
          "text": [
            "Epoch 5\n",
            "Train accuracy: 0.99072\n",
            "Val accuracy: 0.9776\n"
          ]
        },
        {
          "output_type": "stream",
          "name": "stderr",
          "text": [
            "100%|██████████| 1562/1562 [00:06<00:00, 254.06it/s]\n"
          ]
        },
        {
          "output_type": "stream",
          "name": "stdout",
          "text": [
            "Epoch 6\n",
            "Train accuracy: 0.99358\n",
            "Val accuracy: 0.9785\n"
          ]
        },
        {
          "output_type": "stream",
          "name": "stderr",
          "text": [
            "100%|██████████| 1562/1562 [00:06<00:00, 256.87it/s]\n"
          ]
        },
        {
          "output_type": "stream",
          "name": "stdout",
          "text": [
            "Epoch 7\n",
            "Train accuracy: 0.9935\n",
            "Val accuracy: 0.9757\n"
          ]
        },
        {
          "output_type": "stream",
          "name": "stderr",
          "text": [
            "100%|██████████| 1562/1562 [00:06<00:00, 250.82it/s]\n"
          ]
        },
        {
          "output_type": "stream",
          "name": "stdout",
          "text": [
            "Epoch 8\n",
            "Train accuracy: 0.99588\n",
            "Val accuracy: 0.9786\n"
          ]
        },
        {
          "output_type": "stream",
          "name": "stderr",
          "text": [
            "100%|██████████| 1562/1562 [00:06<00:00, 253.54it/s]\n"
          ]
        },
        {
          "output_type": "stream",
          "name": "stdout",
          "text": [
            "Epoch 9\n",
            "Train accuracy: 0.99682\n",
            "Val accuracy: 0.9787\n"
          ]
        },
        {
          "output_type": "stream",
          "name": "stderr",
          "text": [
            "100%|██████████| 1562/1562 [00:07<00:00, 199.76it/s]\n"
          ]
        },
        {
          "output_type": "stream",
          "name": "stdout",
          "text": [
            "Epoch 10\n",
            "Train accuracy: 0.99882\n",
            "Val accuracy: 0.9802\n"
          ]
        }
      ]
    },
    {
      "cell_type": "code",
      "source": [
        "def plot_predictions(data, target, prediction, n_plots=8,figsize=[15,15]):\n",
        "  plt.figure(figsize=figsize)\n",
        "  for i in range(n_plots):\n",
        "      plt.subplot(n_plots/2, n_plots/2, i+1)\n",
        "      plt.title(f'Target: {target[i]}   Predicted: {prediction[i]}')\n",
        "      plt.imshow(data[i].reshape([28,28]),cmap='gray');"
      ],
      "metadata": {
        "id": "7bzZEQBiPM4u"
      },
      "execution_count": 57,
      "outputs": []
    },
    {
      "cell_type": "code",
      "source": [
        "prediction = model.predict(X_test)\n",
        "plot_predictions(X_test, y_test, prediction, n_plots=10, figsize=[20,20])"
      ],
      "metadata": {
        "id": "hO4153G2OIEn",
        "colab": {
          "base_uri": "https://localhost:8080/",
          "height": 466
        },
        "outputId": "7dca6370-356b-4243-f957-802633830666"
      },
      "execution_count": 58,
      "outputs": [
        {
          "output_type": "display_data",
          "data": {
            "text/plain": [
              "<Figure size 1440x1440 with 10 Axes>"
            ],
            "image/png": "[encoded data removed]"
          },
          "metadata": {
            "needs_background": "light"
          }
        }
      ]
    },
    {
      "cell_type": "code",
      "source": [
        "print(f'Final accuracy w/ X_test: {np.mean(prediction==y_test)}')"
      ],
      "metadata": {
        "id": "EWx4_q5tPyfO",
        "colab": {
          "base_uri": "https://localhost:8080/"
        },
        "outputId": "a2da1194-8bfe-4280-dfe1-84d3c0069f0c"
      },
      "execution_count": 59,
      "outputs": [
        {
          "output_type": "stream",
          "name": "stdout",
          "text": [
            "Final accuracy w/ X_test: 0.9799\n"
          ]
        }
      ]
    },
    {
      "cell_type": "code",
      "source": [
        "class Dense_with_biases(Layer):\n",
        "    def __init__(self, n_inputs, n_outputs, learning_rate=0.1):\n",
        "        self.n_inputs = n_inputs\n",
        "        self.n_outputs = n_outputs\n",
        "        self.learning_rate = learning_rate\n",
        "        self.weights = np.random.normal(loc=0.0,\n",
        "                                        scale=np.sqrt(2/(n_inputs+n_outputs)),\n",
        "                                        size=(n_inputs, n_outputs))\n",
        "        self.biases = np.zeros(n_outputs)\n",
        "        \n",
        "    def forward(self, input):\n",
        "        return np.dot(input, self.weights) + self.biases\n",
        "\n",
        "    def backward(self, input, grad_output):\n",
        "        grad_input = np.dot(grad_output, self.weights.T)\n",
        "        grad_weights = np.dot(input.T, grad_output)\n",
        "        grad_biases = grad_output.mean(axis=0)*input.shape[0]\n",
        "\n",
        "        assert grad_weights.shape == self.weights.shape and grad_biases.shape == self.biases.shape\n",
        "\n",
        "        self.weights = self.weights - self.learning_rate * grad_weights\n",
        "        self.biases = self.biases - self.learning_rate * grad_biases\n",
        "\n",
        "        return grad_input"
      ],
      "metadata": {
        "id": "iOd8T_o75oCu"
      },
      "execution_count": 60,
      "outputs": []
    },
    {
      "cell_type": "code",
      "source": [
        "model2 = MLP()\n",
        "model2.add_layer(Dense_with_biases(784, 200))\n",
        "model2.add_layer(Dense_with_biases(200, 100))\n",
        "model2.add_layer(Dense_with_biases(100, 10), hidden=False)"
      ],
      "metadata": {
        "id": "ADMCuSxx6jdP"
      },
      "execution_count": 61,
      "outputs": []
    },
    {
      "cell_type": "code",
      "source": [
        "train_log2, val_log2 = train_epochs(X_train, y_train, model2, X_val, y_val)"
      ],
      "metadata": {
        "colab": {
          "base_uri": "https://localhost:8080/"
        },
        "id": "FTeKTEPL6uky",
        "outputId": "41e47bfa-0868-475e-ff9f-1ab5168e1f5d"
      },
      "execution_count": 62,
      "outputs": [
        {
          "output_type": "stream",
          "name": "stdout",
          "text": [
            "Untrained network\n",
            "Train accuracy: 0.11784\n",
            "Val accuracy: 0.122\n"
          ]
        },
        {
          "output_type": "stream",
          "name": "stderr",
          "text": [
            "100%|██████████| 1562/1562 [00:06<00:00, 248.62it/s]\n"
          ]
        },
        {
          "output_type": "stream",
          "name": "stdout",
          "text": [
            "Epoch 1\n",
            "Train accuracy: 0.96242\n",
            "Val accuracy: 0.9598\n"
          ]
        },
        {
          "output_type": "stream",
          "name": "stderr",
          "text": [
            "100%|██████████| 1562/1562 [00:06<00:00, 247.57it/s]\n"
          ]
        },
        {
          "output_type": "stream",
          "name": "stdout",
          "text": [
            "Epoch 2\n",
            "Train accuracy: 0.9756\n",
            "Val accuracy: 0.9699\n"
          ]
        },
        {
          "output_type": "stream",
          "name": "stderr",
          "text": [
            "100%|██████████| 1562/1562 [00:06<00:00, 253.94it/s]\n"
          ]
        },
        {
          "output_type": "stream",
          "name": "stdout",
          "text": [
            "Epoch 3\n",
            "Train accuracy: 0.98356\n",
            "Val accuracy: 0.9746\n"
          ]
        },
        {
          "output_type": "stream",
          "name": "stderr",
          "text": [
            "100%|██████████| 1562/1562 [00:06<00:00, 238.36it/s]\n"
          ]
        },
        {
          "output_type": "stream",
          "name": "stdout",
          "text": [
            "Epoch 4\n",
            "Train accuracy: 0.9877\n",
            "Val accuracy: 0.9731\n"
          ]
        },
        {
          "output_type": "stream",
          "name": "stderr",
          "text": [
            "100%|██████████| 1562/1562 [00:06<00:00, 247.39it/s]\n"
          ]
        },
        {
          "output_type": "stream",
          "name": "stdout",
          "text": [
            "Epoch 5\n",
            "Train accuracy: 0.99032\n",
            "Val accuracy: 0.9766\n"
          ]
        },
        {
          "output_type": "stream",
          "name": "stderr",
          "text": [
            "100%|██████████| 1562/1562 [00:06<00:00, 245.31it/s]\n"
          ]
        },
        {
          "output_type": "stream",
          "name": "stdout",
          "text": [
            "Epoch 6\n",
            "Train accuracy: 0.98988\n",
            "Val accuracy: 0.9734\n"
          ]
        },
        {
          "output_type": "stream",
          "name": "stderr",
          "text": [
            "100%|██████████| 1562/1562 [00:06<00:00, 245.39it/s]\n"
          ]
        },
        {
          "output_type": "stream",
          "name": "stdout",
          "text": [
            "Epoch 7\n",
            "Train accuracy: 0.9934\n",
            "Val accuracy: 0.9768\n"
          ]
        },
        {
          "output_type": "stream",
          "name": "stderr",
          "text": [
            "100%|██████████| 1562/1562 [00:06<00:00, 248.63it/s]\n"
          ]
        },
        {
          "output_type": "stream",
          "name": "stdout",
          "text": [
            "Epoch 8\n",
            "Train accuracy: 0.99664\n",
            "Val accuracy: 0.9782\n"
          ]
        },
        {
          "output_type": "stream",
          "name": "stderr",
          "text": [
            "100%|██████████| 1562/1562 [00:06<00:00, 249.35it/s]\n"
          ]
        },
        {
          "output_type": "stream",
          "name": "stdout",
          "text": [
            "Epoch 9\n",
            "Train accuracy: 0.9973\n",
            "Val accuracy: 0.9787\n"
          ]
        },
        {
          "output_type": "stream",
          "name": "stderr",
          "text": [
            "100%|██████████| 1562/1562 [00:06<00:00, 247.17it/s]\n"
          ]
        },
        {
          "output_type": "stream",
          "name": "stdout",
          "text": [
            "Epoch 10\n",
            "Train accuracy: 0.99822\n",
            "Val accuracy: 0.9801\n"
          ]
        }
      ]
    },
    {
      "cell_type": "code",
      "source": [
        "plt.plot(train_log,label='train accuracy')\n",
        "plt.plot(val_log,label='val accuracy')\n",
        "plt.plot(train_log2,label='train accuracy w/ biases')\n",
        "plt.plot(val_log2,label='val accuracy w/ biases')\n",
        "plt.legend(loc='best')\n",
        "plt.grid()\n",
        "plt.show()"
      ],
      "metadata": {
        "colab": {
          "base_uri": "https://localhost:8080/",
          "height": 265
        },
        "id": "dexepIq_7TOE",
        "outputId": "e972f357-73bc-4924-8db8-db40c12de97c"
      },
      "execution_count": 63,
      "outputs": [
        {
          "output_type": "display_data",
          "data": {
            "text/plain": [
              "<Figure size 432x288 with 1 Axes>"
            ],
            "image/png": "[encoded data removed]"
          },
          "metadata": {
            "needs_background": "light"
          }
        }
      ]
    },
    {
      "cell_type": "markdown",
      "source": [
        "##References\n",
        "https://towardsdatascience.com/building-neural-network-from-scratch-9c88535bf8e9<br/>\n",
        "https://www.youtube.com/watch?v=0oWnheK-gGk<br/>\n",
        "https://www.kaggle.com/code/vitorgamalemos/multilayer-perceptron-from-scratch/notebook"
      ],
      "metadata": {
        "id": "222R1D6yVlQ6"
      }
    }
  ]
}
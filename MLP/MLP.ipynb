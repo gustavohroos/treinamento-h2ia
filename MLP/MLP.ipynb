{
  "nbformat": 4,
  "nbformat_minor": 0,
  "metadata": {
    "colab": {
      "name": "MLP.ipynb",
      "provenance": [],
      "collapsed_sections": [],
      "authorship_tag": "ABX9TyOmo16So5hhCJDaS2YTubmK",
      "include_colab_link": true
    },
    "kernelspec": {
      "name": "python3",
      "display_name": "Python 3"
    },
    "language_info": {
      "name": "python"
    }
  },
  "cells": [
    {
      "cell_type": "markdown",
      "metadata": {
        "id": "view-in-github",
        "colab_type": "text"
      },
      "source": [
        "<a href=\"https://colab.research.google.com/github/gustavohroos/treinamento-h2ia/blob/main/MLP/MLP.ipynb\" target=\"_parent\"><img src=\"https://colab.research.google.com/assets/colab-badge.svg\" alt=\"Open In Colab\"/></a>"
      ]
    },
    {
      "cell_type": "code",
      "execution_count": 1,
      "metadata": {
        "id": "QuXpWbxab9-E"
      },
      "outputs": [],
      "source": [
        "from sklearn.preprocessing import StandardScaler\n",
        "from sklearn.datasets import load_digits\n",
        "from keras.datasets import mnist\n",
        "from sklearn.model_selection import train_test_split\n",
        "from scipy.special import xlogy\n",
        "import matplotlib.pyplot as plt\n",
        "import numpy as np\n",
        "import pandas as pd\n",
        "from tqdm import trange"
      ]
    },
    {
      "cell_type": "code",
      "source": [
        "def load_dataset(flatten=False):\n",
        "    (X_train, y_train), (X_test, y_test) = mnist.load_data()\n",
        "\n",
        "    X_train = X_train.astype(float) / 255.\n",
        "    X_test = X_test.astype(float) / 255.\n",
        "\n",
        "    X_train, X_val = X_train[:-10000], X_train[-10000:]\n",
        "    y_train, y_val = y_train[:-10000], y_train[-10000:]\n",
        "    \n",
        "    X_train = X_train.reshape([X_train.shape[0], -1])\n",
        "    X_val = X_val.reshape([X_val.shape[0], -1])\n",
        "    X_test = X_test.reshape([X_test.shape[0], -1])\n",
        "\n",
        "    return X_train, y_train, X_val, y_val, X_test, y_test\n",
        "    \n",
        "X_train, y_train, X_val, y_val, X_test, y_test = load_dataset(flatten=True)\n",
        "plt.figure(figsize=[6,6])\n",
        "for i in range(4):\n",
        "    plt.subplot(2,2,i+1)\n",
        "    plt.title(\"Label: %i\"%y_train[i])\n",
        "    plt.imshow(X_train[i].reshape([28,28]),cmap='gray');"
      ],
      "metadata": {
        "id": "HxOzljCYcaUs",
        "colab": {
          "base_uri": "https://localhost:8080/",
          "height": 390
        },
        "outputId": "90b12431-65e5-4cf2-e6a8-8e4c1c208e52"
      },
      "execution_count": 2,
      "outputs": [
        {
          "output_type": "display_data",
          "data": {
            "text/plain": [
              "<Figure size 432x432 with 4 Axes>"
            ],
            "image/png": "[encoded data removed]"
          },
          "metadata": {
            "needs_background": "light"
          }
        }
      ]
    },
    {
      "cell_type": "code",
      "source": [
        "class Layer:\n",
        "    def forward(self, input):\n",
        "        return input\n",
        "\n",
        "    def backward(self, input, grad_output):\n",
        "        num_units = input.shape[1]\n",
        "        \n",
        "        d_layer_d_input = np.identity(num_units)\n",
        "        \n",
        "        return np.dot(grad_output, d_layer_d_input)"
      ],
      "metadata": {
        "id": "lUTdsmpN6wbX"
      },
      "execution_count": 3,
      "outputs": []
    },
    {
      "cell_type": "code",
      "source": [
        "class ReLU(Layer):\n",
        "    def forward(self, input):\n",
        "        return np.maximum(input, 0)\n",
        "\n",
        "    def backward(self, input, grad_output):\n",
        "        return grad_output * (input > 0)"
      ],
      "metadata": {
        "id": "EI3VpROc7rvv"
      },
      "execution_count": 4,
      "outputs": []
    },
    {
      "cell_type": "code",
      "source": [
        "class Dense(Layer):\n",
        "    def __init__(self, n_inputs, n_outputs, final_layer=False, learning_rate=0.1):\n",
        "        self.n_inputs = n_inputs\n",
        "        self.n_outputs = n_outputs\n",
        "        self.learning_rate = learning_rate\n",
        "        self.weights = np.random.normal(loc=0.0,\n",
        "                                        scale=np.sqrt(2/(n_inputs+n_outputs)),\n",
        "                                        size=(n_inputs, n_outputs))\n",
        "        \n",
        "    def forward(self, input):\n",
        "        return np.dot(input, self.weights)\n",
        "\n",
        "    def backward(self, input, grad_output):\n",
        "        grad_input = np.dot(grad_output, self.weights.T)\n",
        "        grad_weights = np.dot(input.T, grad_output)\n",
        "\n",
        "        assert grad_weights.shape == self.weights.shape\n",
        "\n",
        "        self.weights = self.weights - self.learning_rate * grad_weights\n",
        "\n",
        "        return grad_input\n"
      ],
      "metadata": {
        "id": "QyM2OYrZB0g8"
      },
      "execution_count": 5,
      "outputs": []
    },
    {
      "cell_type": "code",
      "source": [
        "def softmax_crossentropy_with_logits(logits, target):\n",
        "    logits_for_answers = logits[np.arange(len(logits)), target]\n",
        "    xentropy = - logits_for_answers + np.log(np.sum(np.exp(logits), axis=-1))\n",
        "\n",
        "    return xentropy\n",
        "\n",
        "def grad_softmax_crossentropy_with_logits(logits, target):\n",
        "    ones_for_answers = np.zeros_like(logits)\n",
        "    ones_for_answers[np.arange(len(logits)), target] = 1\n",
        "\n",
        "    softmax = np.exp(logits) / np.sum(np.exp(logits), axis=-1, keepdims=True)\n",
        "\n",
        "    return (- ones_for_answers + softmax) / logits.shape[0]"
      ],
      "metadata": {
        "id": "yW0FV8lgD9aY"
      },
      "execution_count": 6,
      "outputs": []
    },
    {
      "cell_type": "code",
      "source": [
        "class MLP:\n",
        "\n",
        "    def __init__(self):\n",
        "        self.network = []\n",
        "\n",
        "    def add_layer(self, layer, hidden=True):\n",
        "        self.network.append(layer)\n",
        "        if hidden: self.network.append(ReLU())\n",
        "        \n",
        "    def forward(self, X):\n",
        "        activations = []\n",
        "        input = X\n",
        "\n",
        "        for layer in self.network:\n",
        "            activations.append(layer.forward(input))\n",
        "            input = activations[-1]\n",
        "\n",
        "        assert len(activations) == len(self.network)\n",
        "\n",
        "        return activations\n",
        "\n",
        "    def predict(self, X):\n",
        "        logits = self.forward(X)[-1]\n",
        "        return np.argmax(logits, axis=-1)\n",
        "\n",
        "    def fit(self, X, y):          \n",
        "\n",
        "        layer_activations = self.forward(X)\n",
        "        layer_inputs = [X]+layer_activations\n",
        "        logits = layer_activations[-1]\n",
        "\n",
        "        self.loss = softmax_crossentropy_with_logits(logits, y)\n",
        "        loss_grad = grad_softmax_crossentropy_with_logits(logits, y)\n",
        "\n",
        "        for layer_index in range(len(self.network))[::-1]:\n",
        "            layer = self.network[layer_index]\n",
        "\n",
        "            loss_grad = layer.backward(layer_inputs[layer_index], loss_grad)\n",
        "        \n",
        "        return self.loss\n",
        "\n",
        "\n",
        "    def print_layers(self):\n",
        "        count = 0\n",
        "        count_layer = 1\n",
        "        for index, layer in enumerate(self.network):\n",
        "            if count%2 == 0: \n",
        "                print(f'Layer {count_layer} shape: {layer.weights.shape}')\n",
        "                count_layer += 1\n",
        "            count +=1\n",
        "            \n"
      ],
      "metadata": {
        "id": "5N3fMrGxbYGW"
      },
      "execution_count": 7,
      "outputs": []
    },
    {
      "cell_type": "code",
      "source": [
        "model = MLP()\n",
        "model.add_layer(Dense(X_train.shape[1], 100))\n",
        "model.add_layer(Dense(100, 100))\n",
        "model.add_layer(Dense(100, 10), hidden=False)\n",
        "model.print_layers()"
      ],
      "metadata": {
        "id": "XfyCrTBr8MJl",
        "colab": {
          "base_uri": "https://localhost:8080/"
        },
        "outputId": "e588060c-cdf4-4f19-d864-23137d8e4ff2"
      },
      "execution_count": 8,
      "outputs": [
        {
          "output_type": "stream",
          "name": "stdout",
          "text": [
            "Layer 1 shape: (784, 100)\n",
            "Layer 2 shape: (100, 100)\n",
            "Layer 3 shape: (100, 10)\n"
          ]
        }
      ]
    },
    {
      "cell_type": "code",
      "source": [
        "from tqdm import trange\n",
        "def iterate_minibatches(inputs, targets, batchsize, shuffle=False):\n",
        "    assert len(inputs) == len(targets)\n",
        "    \n",
        "    if shuffle: indices = np.random.permutation(len(inputs))\n",
        "    \n",
        "    for start_idx in trange(0, len(inputs) - batchsize + 1, batchsize):\n",
        "        if shuffle: excerpt = indices[start_idx:start_idx + batchsize]\n",
        "        else: excerpt = slice(start_idx, start_idx + batchsize)\n",
        "        \n",
        "        yield inputs[excerpt], targets[excerpt]\n",
        "def train_epochs(X_train, y_train, model, X_val, y_val):\n",
        "  train_log = []\n",
        "  val_log = []\n",
        "  for epoch in range(25):\n",
        "      for x_batch,y_batch in iterate_minibatches(X_train,y_train,batchsize=32,shuffle=True):\n",
        "          model.fit(x_batch,y_batch)\n",
        "      train_log.append(np.mean(model.predict(X_train)==y_train))\n",
        "      val_log.append(np.mean(model.predict(X_val)==y_val))\n",
        "      print(\"Epoch\",epoch)\n",
        "      print(\"Train accuracy:\",train_log[-1])\n",
        "      print(\"Val accuracy:\",val_log[-1])\n",
        "  return train_log, val_log"
      ],
      "metadata": {
        "id": "BOhKz7ZmfW9G"
      },
      "execution_count": 9,
      "outputs": []
    },
    {
      "cell_type": "code",
      "source": [
        "train_log, val_log = train_epochs(X_train, y_train, model, X_val, y_val)"
      ],
      "metadata": {
        "colab": {
          "base_uri": "https://localhost:8080/"
        },
        "id": "BuArA3raM3Ip",
        "outputId": "6b150779-c79c-414f-bde6-f48c5ebb5913"
      },
      "execution_count": 10,
      "outputs": [
        {
          "output_type": "stream",
          "name": "stderr",
          "text": [
            "100%|██████████| 1562/1562 [00:08<00:00, 186.85it/s]\n"
          ]
        },
        {
          "output_type": "stream",
          "name": "stdout",
          "text": [
            "Epoch 0\n",
            "Train accuracy: 0.95238\n",
            "Val accuracy: 0.9537\n"
          ]
        },
        {
          "output_type": "stream",
          "name": "stderr",
          "text": [
            "100%|██████████| 1562/1562 [00:08<00:00, 173.73it/s]\n"
          ]
        },
        {
          "output_type": "stream",
          "name": "stdout",
          "text": [
            "Epoch 1\n",
            "Train accuracy: 0.97436\n",
            "Val accuracy: 0.9719\n"
          ]
        },
        {
          "output_type": "stream",
          "name": "stderr",
          "text": [
            "100%|██████████| 1562/1562 [00:03<00:00, 476.31it/s]\n"
          ]
        },
        {
          "output_type": "stream",
          "name": "stdout",
          "text": [
            "Epoch 2\n",
            "Train accuracy: 0.98006\n",
            "Val accuracy: 0.9714\n"
          ]
        },
        {
          "output_type": "stream",
          "name": "stderr",
          "text": [
            "100%|██████████| 1562/1562 [00:03<00:00, 469.18it/s]\n"
          ]
        },
        {
          "output_type": "stream",
          "name": "stdout",
          "text": [
            "Epoch 3\n",
            "Train accuracy: 0.9849\n",
            "Val accuracy: 0.9749\n"
          ]
        },
        {
          "output_type": "stream",
          "name": "stderr",
          "text": [
            "100%|██████████| 1562/1562 [00:03<00:00, 476.59it/s]\n"
          ]
        },
        {
          "output_type": "stream",
          "name": "stdout",
          "text": [
            "Epoch 4\n",
            "Train accuracy: 0.98818\n",
            "Val accuracy: 0.9749\n"
          ]
        },
        {
          "output_type": "stream",
          "name": "stderr",
          "text": [
            "100%|██████████| 1562/1562 [00:06<00:00, 245.69it/s]\n"
          ]
        },
        {
          "output_type": "stream",
          "name": "stdout",
          "text": [
            "Epoch 5\n",
            "Train accuracy: 0.9917\n",
            "Val accuracy: 0.9775\n"
          ]
        },
        {
          "output_type": "stream",
          "name": "stderr",
          "text": [
            "100%|██████████| 1562/1562 [00:04<00:00, 327.11it/s]\n"
          ]
        },
        {
          "output_type": "stream",
          "name": "stdout",
          "text": [
            "Epoch 6\n",
            "Train accuracy: 0.9922\n",
            "Val accuracy: 0.976\n"
          ]
        },
        {
          "output_type": "stream",
          "name": "stderr",
          "text": [
            "100%|██████████| 1562/1562 [00:03<00:00, 453.14it/s]\n"
          ]
        },
        {
          "output_type": "stream",
          "name": "stdout",
          "text": [
            "Epoch 7\n",
            "Train accuracy: 0.99496\n",
            "Val accuracy: 0.9789\n"
          ]
        },
        {
          "output_type": "stream",
          "name": "stderr",
          "text": [
            "100%|██████████| 1562/1562 [00:03<00:00, 471.03it/s]\n"
          ]
        },
        {
          "output_type": "stream",
          "name": "stdout",
          "text": [
            "Epoch 8\n",
            "Train accuracy: 0.99464\n",
            "Val accuracy: 0.9771\n"
          ]
        },
        {
          "output_type": "stream",
          "name": "stderr",
          "text": [
            "100%|██████████| 1562/1562 [00:03<00:00, 470.55it/s]\n"
          ]
        },
        {
          "output_type": "stream",
          "name": "stdout",
          "text": [
            "Epoch 9\n",
            "Train accuracy: 0.99708\n",
            "Val accuracy: 0.9783\n"
          ]
        },
        {
          "output_type": "stream",
          "name": "stderr",
          "text": [
            "100%|██████████| 1562/1562 [00:03<00:00, 475.06it/s]\n"
          ]
        },
        {
          "output_type": "stream",
          "name": "stdout",
          "text": [
            "Epoch 10\n",
            "Train accuracy: 0.99638\n",
            "Val accuracy: 0.9782\n"
          ]
        },
        {
          "output_type": "stream",
          "name": "stderr",
          "text": [
            "100%|██████████| 1562/1562 [00:03<00:00, 471.04it/s]\n"
          ]
        },
        {
          "output_type": "stream",
          "name": "stdout",
          "text": [
            "Epoch 11\n",
            "Train accuracy: 0.99532\n",
            "Val accuracy: 0.9752\n"
          ]
        },
        {
          "output_type": "stream",
          "name": "stderr",
          "text": [
            "100%|██████████| 1562/1562 [00:03<00:00, 467.19it/s]\n"
          ]
        },
        {
          "output_type": "stream",
          "name": "stdout",
          "text": [
            "Epoch 12\n",
            "Train accuracy: 0.99824\n",
            "Val accuracy: 0.9798\n"
          ]
        },
        {
          "output_type": "stream",
          "name": "stderr",
          "text": [
            "100%|██████████| 1562/1562 [00:03<00:00, 470.33it/s]\n"
          ]
        },
        {
          "output_type": "stream",
          "name": "stdout",
          "text": [
            "Epoch 13\n",
            "Train accuracy: 0.99884\n",
            "Val accuracy: 0.9786\n"
          ]
        },
        {
          "output_type": "stream",
          "name": "stderr",
          "text": [
            "100%|██████████| 1562/1562 [00:03<00:00, 473.81it/s]\n"
          ]
        },
        {
          "output_type": "stream",
          "name": "stdout",
          "text": [
            "Epoch 14\n",
            "Train accuracy: 0.99922\n",
            "Val accuracy: 0.9795\n"
          ]
        },
        {
          "output_type": "stream",
          "name": "stderr",
          "text": [
            "100%|██████████| 1562/1562 [00:07<00:00, 216.97it/s]\n"
          ]
        },
        {
          "output_type": "stream",
          "name": "stdout",
          "text": [
            "Epoch 15\n",
            "Train accuracy: 0.99904\n",
            "Val accuracy: 0.9782\n"
          ]
        },
        {
          "output_type": "stream",
          "name": "stderr",
          "text": [
            "100%|██████████| 1562/1562 [00:06<00:00, 245.37it/s]\n"
          ]
        },
        {
          "output_type": "stream",
          "name": "stdout",
          "text": [
            "Epoch 16\n",
            "Train accuracy: 0.99988\n",
            "Val accuracy: 0.9803\n"
          ]
        },
        {
          "output_type": "stream",
          "name": "stderr",
          "text": [
            "100%|██████████| 1562/1562 [00:09<00:00, 168.65it/s]\n"
          ]
        },
        {
          "output_type": "stream",
          "name": "stdout",
          "text": [
            "Epoch 17\n",
            "Train accuracy: 1.0\n",
            "Val accuracy: 0.9802\n"
          ]
        },
        {
          "output_type": "stream",
          "name": "stderr",
          "text": [
            "100%|██████████| 1562/1562 [00:06<00:00, 249.73it/s]\n"
          ]
        },
        {
          "output_type": "stream",
          "name": "stdout",
          "text": [
            "Epoch 18\n",
            "Train accuracy: 1.0\n",
            "Val accuracy: 0.98\n"
          ]
        },
        {
          "output_type": "stream",
          "name": "stderr",
          "text": [
            "100%|██████████| 1562/1562 [00:03<00:00, 464.86it/s]\n"
          ]
        },
        {
          "output_type": "stream",
          "name": "stdout",
          "text": [
            "Epoch 19\n",
            "Train accuracy: 1.0\n",
            "Val accuracy: 0.9803\n"
          ]
        },
        {
          "output_type": "stream",
          "name": "stderr",
          "text": [
            "100%|██████████| 1562/1562 [00:04<00:00, 372.36it/s]\n"
          ]
        },
        {
          "output_type": "stream",
          "name": "stdout",
          "text": [
            "Epoch 20\n",
            "Train accuracy: 1.0\n",
            "Val accuracy: 0.9808\n"
          ]
        },
        {
          "output_type": "stream",
          "name": "stderr",
          "text": [
            "100%|██████████| 1562/1562 [00:11<00:00, 136.60it/s]\n"
          ]
        },
        {
          "output_type": "stream",
          "name": "stdout",
          "text": [
            "Epoch 21\n",
            "Train accuracy: 1.0\n",
            "Val accuracy: 0.9802\n"
          ]
        },
        {
          "output_type": "stream",
          "name": "stderr",
          "text": [
            "100%|██████████| 1562/1562 [00:03<00:00, 452.90it/s]\n"
          ]
        },
        {
          "output_type": "stream",
          "name": "stdout",
          "text": [
            "Epoch 22\n",
            "Train accuracy: 1.0\n",
            "Val accuracy: 0.9806\n"
          ]
        },
        {
          "output_type": "stream",
          "name": "stderr",
          "text": [
            "100%|██████████| 1562/1562 [00:03<00:00, 465.18it/s]\n"
          ]
        },
        {
          "output_type": "stream",
          "name": "stdout",
          "text": [
            "Epoch 23\n",
            "Train accuracy: 1.0\n",
            "Val accuracy: 0.9803\n"
          ]
        },
        {
          "output_type": "stream",
          "name": "stderr",
          "text": [
            "100%|██████████| 1562/1562 [00:03<00:00, 469.35it/s]\n"
          ]
        },
        {
          "output_type": "stream",
          "name": "stdout",
          "text": [
            "Epoch 24\n",
            "Train accuracy: 1.0\n",
            "Val accuracy: 0.9801\n"
          ]
        }
      ]
    },
    {
      "cell_type": "code",
      "source": [
        "print(\"Epoch\",24)\n",
        "print(\"Train accuracy:\",train_log[-1])\n",
        "print(\"Val accuracy:\",val_log[-1])\n",
        "plt.plot(train_log,label='train accuracy')\n",
        "plt.plot(val_log,label='val accuracy')\n",
        "plt.legend(loc='best')\n",
        "plt.grid()\n",
        "plt.show()"
      ],
      "metadata": {
        "colab": {
          "base_uri": "https://localhost:8080/",
          "height": 317
        },
        "id": "EbZ_gmxxOE-I",
        "outputId": "fd23b9f9-ff11-467b-b7f6-92b31484b952"
      },
      "execution_count": 11,
      "outputs": [
        {
          "output_type": "stream",
          "name": "stdout",
          "text": [
            "Epoch 24\n",
            "Train accuracy: 1.0\n",
            "Val accuracy: 0.9801\n"
          ]
        },
        {
          "output_type": "display_data",
          "data": {
            "text/plain": [
              "<Figure size 432x288 with 1 Axes>"
            ],
            "image/png": "[encoded data removed]"
          },
          "metadata": {
            "needs_background": "light"
          }
        }
      ]
    },
    {
      "cell_type": "code",
      "source": [
        "def plot_predictions(data, target, prediction, n_plots=8,figsize=[15,15]):\n",
        "  plt.figure(figsize=figsize)\n",
        "  for i in range(n_plots):\n",
        "      plt.subplot(n_plots/2, n_plots/2, i+1)\n",
        "      plt.title(f'Target: {target[i]}   Predicted: {prediction[i]}')\n",
        "      plt.imshow(data[i].reshape([28,28]),cmap='gray');"
      ],
      "metadata": {
        "id": "7bzZEQBiPM4u"
      },
      "execution_count": 12,
      "outputs": []
    },
    {
      "cell_type": "code",
      "source": [
        "prediction = model.predict(X_test)\n",
        "plot_predictions(X_test, y_test, prediction, n_plots=10, figsize=[20,20])"
      ],
      "metadata": {
        "colab": {
          "base_uri": "https://localhost:8080/",
          "height": 417
        },
        "id": "hO4153G2OIEn",
        "outputId": "1f5239b5-0ee7-4ff1-ca0f-ed9a966202d3"
      },
      "execution_count": 13,
      "outputs": [
        {
          "output_type": "display_data",
          "data": {
            "text/plain": [
              "<Figure size 1440x1440 with 10 Axes>"
            ],
            "image/png": "[encoded data removed]"
          },
          "metadata": {
            "needs_background": "light"
          }
        }
      ]
    },
    {
      "cell_type": "code",
      "source": [
        "print(f'Final accuracy w/ X_test: {np.mean(prediction==y_test)}')"
      ],
      "metadata": {
        "colab": {
          "base_uri": "https://localhost:8080/"
        },
        "id": "EWx4_q5tPyfO",
        "outputId": "823e3b17-319f-42e1-a251-4478b69237fc"
      },
      "execution_count": 15,
      "outputs": [
        {
          "output_type": "stream",
          "name": "stdout",
          "text": [
            "Final accuracy w/ X_test: 0.9813\n"
          ]
        }
      ]
    }
  ]
}
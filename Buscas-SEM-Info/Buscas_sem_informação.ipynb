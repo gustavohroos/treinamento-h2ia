{
  "nbformat": 4,
  "nbformat_minor": 0,
  "metadata": {
    "colab": {
      "name": "Buscas sem informação.ipynb",
      "provenance": [],
      "collapsed_sections": [],
      "include_colab_link": true
    },
    "kernelspec": {
      "name": "python3",
      "display_name": "Python 3"
    },
    "language_info": {
      "name": "python"
    }
  },
  "cells": [
    {
      "cell_type": "markdown",
      "metadata": {
        "id": "view-in-github",
        "colab_type": "text"
      },
      "source": [
        "<a href=\"https://colab.research.google.com/github/gustavohroos/treinamento-h2ia/blob/main/Buscas-SEM-Info/Buscas_sem_informa%C3%A7%C3%A3o.ipynb\" target=\"_parent\"><img src=\"https://colab.research.google.com/assets/colab-badge.svg\" alt=\"Open In Colab\"/></a>"
      ]
    },
    {
      "cell_type": "markdown",
      "metadata": {
        "id": "21uUELma0562"
      },
      "source": [
        "# O Problema\n",
        "Sliding Puzzle - Bloco Deslizante"
      ]
    },
    {
      "cell_type": "code",
      "metadata": {
        "colab": {
          "base_uri": "https://localhost:8080/",
          "height": 218
        },
        "id": "duRbJW3rz01L",
        "outputId": "60bc36bc-0577-46ea-c2bb-4abb681dbe67"
      },
      "source": [
        "# !wget -qq https://miro.medium.com/max/700/1*W7jg4GmEjGBypd9WPktasQ.gif\n",
        "from IPython.display import Image\n",
        "Image(url='https://miro.medium.com/max/700/1*W7jg4GmEjGBypd9WPktasQ.gif',width=200)"
      ],
      "execution_count": null,
      "outputs": [
        {
          "output_type": "execute_result",
          "data": {
            "text/plain": [
              "<IPython.core.display.Image object>"
            ],
            "text/html": [
              "<img src=\"https://miro.medium.com/max/700/1*W7jg4GmEjGBypd9WPktasQ.gif\" width=\"200\"/>"
            ]
          },
          "metadata": {},
          "execution_count": 2
        }
      ]
    },
    {
      "cell_type": "markdown",
      "metadata": {
        "id": "f6TPxqB-1Cwx"
      },
      "source": [
        "# Resolver o quebra-cabeças usando Buscas"
      ]
    },
    {
      "cell_type": "code",
      "source": [
        "import numpy as np\n",
        "import time\n",
        "from typing import List, Tuple\n",
        "from copy import deepcopy\n",
        "from collections import deque\n",
        "from sys import getsizeof"
      ],
      "metadata": {
        "id": "UFSFq_Ne0yjm"
      },
      "execution_count": null,
      "outputs": []
    },
    {
      "cell_type": "code",
      "source": [
        "class Node:\n",
        "\n",
        "    def __init__(self, puzzle: List[int], parent = None) -> None:\n",
        "        self.children = []\n",
        "        self.parent = parent\n",
        "        self.moves = []\n",
        "        self.puzzle = np.array(puzzle)\n",
        "\n",
        "    def __eq__(self, other: object) -> bool:\n",
        "        return (self.puzzle == other.puzzle).all()\n",
        "    \n",
        "    def __repr__(self) -> str:\n",
        "        return (str(self.puzzle[0]) + '\\n' + \n",
        "                str(self.puzzle[1]) + '\\n' + \n",
        "                str(self.puzzle[2]) + '\\n')\n",
        "    \n",
        "    def expand_node(self):\n",
        "        \n",
        "        i, j = np.where(self.puzzle == 0)\n",
        "\n",
        "        if j > 0: #Moves left\n",
        "            pc = np.array(deepcopy(self.puzzle))\n",
        "            pc[i, j-1], pc[i, j] = pc[i, j], pc[i, j-1]\n",
        "            child = Node(pc)\n",
        "            self.children.append(child)\n",
        "            child.parent = self\n",
        "\n",
        "        if j < 2: #Moves right\n",
        "            pc = np.array(deepcopy(self.puzzle))\n",
        "            pc[i, j+1], pc[i, j] = pc[i, j], pc[i, j+1]\n",
        "            child = Node(pc)\n",
        "            self.children.append(child)\n",
        "            child.parent = self\n",
        "        \n",
        "        if i > 0: #Moves up\n",
        "            pc = np.array(deepcopy(self.puzzle))\n",
        "            pc[i-1, j], pc[i, j] = pc[i, j], pc[i-1, j]\n",
        "            child = Node(pc)\n",
        "            self.children.append(child)\n",
        "            child.parent = self\n",
        "        \n",
        "        if i < 2: #Moves down\n",
        "            pc = np.array(deepcopy(self.puzzle))\n",
        "            pc[i+1, j], pc[i, j] = pc[i, j], pc[i+1, j]\n",
        "            child = Node(pc)\n",
        "            self.children.append(child)\n",
        "            child.parent = self\n",
        "\n",
        "def path_tracer(node: Node) -> List[Node]:\n",
        "        current = node\n",
        "        path = []\n",
        "        path.append(current)\n",
        "\n",
        "        while current.parent is not None:\n",
        "            current = current.parent\n",
        "            path.append(current)\n",
        "        \n",
        "        path.reverse()\n",
        "\n",
        "        return path\n",
        "\n",
        "# puzzle = [[2,0,3],[8,4,5],[7,6,1]] #Harder\n",
        "puzzle = [[1, 0, 3], [4, 2, 6], [7, 5, 8]] #Easier to test\n",
        "\n",
        "root = Node(puzzle)\n",
        "\n",
        "print(root)"
      ],
      "metadata": {
        "id": "vOjYVlUECaqo",
        "colab": {
          "base_uri": "https://localhost:8080/"
        },
        "outputId": "0c87a845-40b4-42bc-a799-ef5948c1ed3b"
      },
      "execution_count": null,
      "outputs": [
        {
          "output_type": "stream",
          "name": "stdout",
          "text": [
            "[1 0 3]\n",
            "[4 2 6]\n",
            "[7 5 8]\n",
            "\n"
          ]
        }
      ]
    },
    {
      "cell_type": "markdown",
      "metadata": {
        "id": "o6ZClGCC1RxB"
      },
      "source": [
        "## Busca em largura"
      ]
    },
    {
      "cell_type": "code",
      "source": [
        "def breadth_first_search(root: Node) -> List[Node]:\n",
        "        path = []\n",
        "        open_list = deque([root])\n",
        "        closed_list = []\n",
        "        goal_found = False\n",
        "        expected = Node([[1, 2, 3], [4, 5, 6], [7, 8, 0]])\n",
        "        count = 0\n",
        "\n",
        "        if root == expected:\n",
        "            goal_found = True\n",
        "\n",
        "        while open_list and not goal_found:\n",
        "            current_node = open_list.popleft()\n",
        "            closed_list.append(current_node)\n",
        "            \n",
        "            current_node.expand_node()\n",
        "\n",
        "            for child in current_node.children:\n",
        "                if child == expected:\n",
        "                    \n",
        "                    goal_found = True\n",
        "                    path = path_tracer(child)\n",
        "                \n",
        "                if child not in closed_list:\n",
        "                    if child not in open_list:\n",
        "                        open_list.append(child)\n",
        "                        count += 1\n",
        "                    \n",
        "            \n",
        "        return path, count\n",
        "\n",
        "start = time.time()\n",
        "solution, count = breadth_first_search(root)\n",
        "\n",
        "if solution:\n",
        "    print('Goal found.')\n",
        "    print(f'It takes {count} nodes.')\n",
        "    for puzzle in solution:\n",
        "        print(puzzle)\n",
        "    print(f'Time taken: {(time.time() - start):.4f} seconds.')\n",
        "else:\n",
        "    print('No path to solution is found')"
      ],
      "metadata": {
        "id": "Q-Xmw01kQ5ig",
        "colab": {
          "base_uri": "https://localhost:8080/"
        },
        "outputId": "569ca310-0cd3-45d6-d9fb-7a16b304b144"
      },
      "execution_count": null,
      "outputs": [
        {
          "output_type": "stream",
          "name": "stdout",
          "text": [
            "Goal found.\n",
            "It takes 18 nodes.\n",
            "[1 0 3]\n",
            "[4 2 6]\n",
            "[7 5 8]\n",
            "\n",
            "[1 2 3]\n",
            "[4 0 6]\n",
            "[7 5 8]\n",
            "\n",
            "[1 2 3]\n",
            "[4 5 6]\n",
            "[7 0 8]\n",
            "\n",
            "[1 2 3]\n",
            "[4 5 6]\n",
            "[7 8 0]\n",
            "\n",
            "Time taken: 0.0040 seconds.\n"
          ]
        }
      ]
    },
    {
      "cell_type": "markdown",
      "metadata": {
        "id": "zCCoey-J1U5t"
      },
      "source": [
        "## Busca em Profundidade"
      ]
    },
    {
      "cell_type": "code",
      "metadata": {
        "id": "XJkS_j3m8A4x",
        "colab": {
          "base_uri": "https://localhost:8080/"
        },
        "outputId": "859c84a9-989d-4338-a58c-bab32f9ab958"
      },
      "source": [
        "def depth_first_search(root: Node) -> List[Node]:\n",
        "        path = []\n",
        "        open_list = [root]\n",
        "        closed_list = []\n",
        "        goal_found = False\n",
        "        expected = Node([[1, 2, 3], [4, 5, 6], [7, 8, 0]])\n",
        "        count = 0\n",
        "\n",
        "        if root == expected:\n",
        "            goal_found = True\n",
        "\n",
        "        while open_list and not goal_found:\n",
        "            current_node = open_list.pop()\n",
        "            closed_list.append(current_node)\n",
        "            \n",
        "            current_node.expand_node()\n",
        "\n",
        "            for child in current_node.children:\n",
        "                if child == expected:\n",
        "                    path = path_tracer(child)\n",
        "                    goal_found = True\n",
        "\n",
        "                if child not in closed_list:\n",
        "                    if child not in open_list:\n",
        "                        open_list.append(child)\n",
        "                        count += 1\n",
        "            \n",
        "        return path, count\n",
        "\n",
        "start = time.time()\n",
        "solution, count = depth_first_search(root)\n",
        "\n",
        "if solution:\n",
        "    print('Goal found.')\n",
        "    print(f'It takes {count} nodes.')\n",
        "    for puzzle in solution:\n",
        "        print(puzzle)\n",
        "    print(f'Time taken: {(time.time() - start):.4f} seconds.')\n",
        "else:\n",
        "    print('No path to solution is found')"
      ],
      "execution_count": null,
      "outputs": [
        {
          "output_type": "stream",
          "name": "stdout",
          "text": [
            "Goal found.\n",
            "It takes 8 nodes.\n",
            "[1 0 3]\n",
            "[4 2 6]\n",
            "[7 5 8]\n",
            "\n",
            "[1 2 3]\n",
            "[4 0 6]\n",
            "[7 5 8]\n",
            "\n",
            "[1 2 3]\n",
            "[4 5 6]\n",
            "[7 0 8]\n",
            "\n",
            "[1 2 3]\n",
            "[4 5 6]\n",
            "[7 8 0]\n",
            "\n",
            "Time taken: 0.0029 seconds.\n"
          ]
        }
      ]
    },
    {
      "cell_type": "markdown",
      "metadata": {
        "id": "rXU5HkCd1ZPu"
      },
      "source": [
        "## Discorra sobre o desempenho dos métodos em questões de:\n",
        "\n",
        "\n",
        "1.   Consumo de memória\n",
        "2.   Processamento\n",
        "\n"
      ]
    }
  ]
}
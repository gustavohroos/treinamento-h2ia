{
  "nbformat": 4,
  "nbformat_minor": 0,
  "metadata": {
    "colab": {
      "name": "competitive-search.ipynb",
      "provenance": [],
      "collapsed_sections": [],
      "authorship_tag": "ABX9TyOpQkQsU25l7OIzh2qjFOaQ",
      "include_colab_link": true
    },
    "kernelspec": {
      "name": "python3",
      "display_name": "Python 3"
    },
    "language_info": {
      "name": "python"
    }
  },
  "cells": [
    {
      "cell_type": "markdown",
      "metadata": {
        "id": "view-in-github",
        "colab_type": "text"
      },
      "source": [
        "<a href=\"https://colab.research.google.com/github/gustavohroos/treinamento-h2ia/blob/main/busca-competitiva/busca_competitiva.ipynb\" target=\"_parent\"><img src=\"https://colab.research.google.com/assets/colab-badge.svg\" alt=\"Open In Colab\"/></a>"
      ]
    },
    {
      "cell_type": "markdown",
      "source": [
        "![board.jpg](data:image/jpeg;base64,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)"
      ],
      "metadata": {
        "id": "dxDA93WNR1hs"
      }
    },
    {
      "cell_type": "code",
      "source": [
        "from __future__ import annotations\n",
        "from typing import List, Tuple\n",
        "import numpy as np"
      ],
      "metadata": {
        "id": "QIYWfSDzmYMu"
      },
      "execution_count": 333,
      "outputs": []
    },
    {
      "cell_type": "code",
      "source": [
        "class Piece:\n",
        "    def __init__(self, row: int, col: int, owner: str) -> None:\n",
        "        self.queen = False\n",
        "        self.row = row\n",
        "        self.col = col\n",
        "        self.owner = owner\n",
        "\n",
        "    def make_queen(self) -> None:\n",
        "        self.queen = True\n",
        "\n",
        "    def move(self, row, col):\n",
        "        self.row = row\n",
        "        self.col = col\n",
        "\n",
        "    def get_moves(self, state: np.ndarray) -> List[Tuple[int]]:\n",
        "        moves = set()\n",
        "        left = self.col - 1\n",
        "        right = self.col + 1\n",
        "        row = self.row\n",
        "\n",
        "        if self.owner == 'I' or self.queen:\n",
        "            if left >= 0:\n",
        "                if self.owner == 'I' and state[row+1][left] == 0:\n",
        "                    moves.add((row+1, left, 'left'))\n",
        "                elif self.owner == 'I' and state[row+1][left].owner == 'P':\n",
        "                    moves.clear()\n",
        "                    moves.add((row+2, left+1, 'left'))\n",
        "                elif self.owner == 'P':\n",
        "                    print() \n",
        "            if right <= 5 and self.owner == 'I' and state[row+1][right] == 0:\n",
        "                moves.add((row+1, right, 'right'))\n",
        "        if self.owner == 'P' or self.queen:\n",
        "            if left >= 0:\n",
        "                moves.add((row-1, left, 'left'))\n",
        "            if right <= 5:\n",
        "                moves.add((row-1, right, 'right'))\n",
        "        return moves\n",
        "    \n",
        "    def __repr__(self):\n",
        "        return self.owner"
      ],
      "metadata": {
        "id": "4DefvnWEmO-W"
      },
      "execution_count": 334,
      "outputs": []
    },
    {
      "cell_type": "code",
      "source": [
        "class Board:\n",
        "    \n",
        "    def __init__(self, state: np.ndarray = None) -> None:\n",
        "        self.player_left = self.ai_left = 6\n",
        "        self.player_queens = self.ai_queens = 0\n",
        "        self.player_pieces = []\n",
        "        self.ai_pieces = []\n",
        "        self.state = self.setup_game() if state == None else state\n",
        "        self.winner = None\n",
        "\n",
        "    def setup_game(self):\n",
        "        state = []\n",
        "        for row in range(6):\n",
        "            state.append([])\n",
        "            for col in range(6):\n",
        "                if col % 2 == ((row +  1) % 2):\n",
        "                    if row < 2:\n",
        "                        piece = Piece(row, col, 'I')\n",
        "                        state[row].append(piece)\n",
        "                        self.ai_pieces.append(piece)\n",
        "                    elif row > 3:\n",
        "                        piece = Piece(row, col, 'P')\n",
        "                        state[row].append(piece)\n",
        "                        self.player_pieces.append(piece)\n",
        "                    else:\n",
        "                        state[row].append(0)\n",
        "                else:\n",
        "                    state[row].append(0)\n",
        "        return np.array(state)\n",
        "\n",
        "    def get_valid_moves(self) -> List[Tuple[int]]:\n",
        "        ai_moves = player_moves = []\n",
        "        for piece in self.ai_pieces:\n",
        "            ai_moves.append(piece.get_moves(self.state))\n",
        "        for piece in self.player_pieces:\n",
        "            player_moves.append(piece.get_moves(self.state))\n",
        "        return ai_moves\n",
        "\n",
        "    def move(self, piece: Piece, row: int, col: int) -> None:\n",
        "        self.state[piece.row][piece.col], self.state[row][col] = self.state[row][col], self.state[piece.row][piece.col]\n",
        "        piece.move(row, col)\n",
        "\n",
        "        if row == 5 or row == 0:\n",
        "            piece.make_queen()\n",
        "            if piece.owner == 'P':\n",
        "                self.player_queens += 1\n",
        "            else:\n",
        "                self.ai_queens += 1 \n",
        "\n",
        "    def get_piece(self, row, col):\n",
        "        return self.state[row][col]\n",
        "\n",
        "    def __repr__(self) -> str:\n",
        "        return str(self.state)\n"
      ],
      "metadata": {
        "id": "zxqRFv_A8iAd"
      },
      "execution_count": 335,
      "outputs": []
    },
    {
      "cell_type": "code",
      "source": [
        "class Checkers:\n",
        "\n",
        "    def __init__(self, state = None) -> None:\n",
        "        self.board = Board(state)\n",
        "\n"
      ],
      "metadata": {
        "id": "Ji6EHIZSmTsX"
      },
      "execution_count": 336,
      "outputs": []
    },
    {
      "cell_type": "code",
      "source": [
        "checkers = Checkers()\n",
        "checkers.board.get_valid_moves()"
      ],
      "metadata": {
        "colab": {
          "base_uri": "https://localhost:8080/"
        },
        "id": "am1YDGpCmqwq",
        "outputId": "cd028bd8-dc56-435a-9eaa-cb53a9fd510f"
      },
      "execution_count": 337,
      "outputs": [
        {
          "output_type": "execute_result",
          "data": {
            "text/plain": [
              "[set(),\n",
              " set(),\n",
              " set(),\n",
              " {(2, 1, 'right')},\n",
              " {(2, 1, 'left'), (2, 3, 'right')},\n",
              " {(2, 3, 'left'), (2, 5, 'right')},\n",
              " {(3, 0, 'left'), (3, 2, 'right')},\n",
              " {(3, 2, 'left'), (3, 4, 'right')},\n",
              " {(3, 4, 'left')},\n",
              " {(4, 1, 'right')},\n",
              " {(4, 1, 'left'), (4, 3, 'right')},\n",
              " {(4, 3, 'left'), (4, 5, 'right')}]"
            ]
          },
          "metadata": {},
          "execution_count": 337
        }
      ]
    },
    {
      "cell_type": "code",
      "source": [
        "checkers.board.player_pieces[0].row, checkers.board.player_pieces[0].col"
      ],
      "metadata": {
        "colab": {
          "base_uri": "https://localhost:8080/"
        },
        "id": "zLvQQrylpTbi",
        "outputId": "2360db6b-90d1-43cb-ce93-16b985e6b1f8"
      },
      "execution_count": 338,
      "outputs": [
        {
          "output_type": "execute_result",
          "data": {
            "text/plain": [
              "(4, 1)"
            ]
          },
          "metadata": {},
          "execution_count": 338
        }
      ]
    },
    {
      "cell_type": "code",
      "source": [
        "checkers.board"
      ],
      "metadata": {
        "colab": {
          "base_uri": "https://localhost:8080/"
        },
        "id": "vZ6lQaDln--K",
        "outputId": "4bb28ee1-b1e2-41d7-acbd-c3fbe587eef6"
      },
      "execution_count": 339,
      "outputs": [
        {
          "output_type": "execute_result",
          "data": {
            "text/plain": [
              "[[0 I 0 I 0 I]\n",
              " [I 0 I 0 I 0]\n",
              " [0 0 0 0 0 0]\n",
              " [0 0 0 0 0 0]\n",
              " [0 P 0 P 0 P]\n",
              " [P 0 P 0 P 0]]"
            ]
          },
          "metadata": {},
          "execution_count": 339
        }
      ]
    },
    {
      "cell_type": "code",
      "source": [
        "checkers.board.move(checkers.board.player_pieces[0], 2, 1)"
      ],
      "metadata": {
        "id": "o4myO29fpMnz"
      },
      "execution_count": 340,
      "outputs": []
    },
    {
      "cell_type": "code",
      "source": [
        "checkers.board"
      ],
      "metadata": {
        "colab": {
          "base_uri": "https://localhost:8080/"
        },
        "id": "Noj1hzRw5at3",
        "outputId": "b3904ed4-5096-4d80-aaff-f1ac5c075dc7"
      },
      "execution_count": 341,
      "outputs": [
        {
          "output_type": "execute_result",
          "data": {
            "text/plain": [
              "[[0 I 0 I 0 I]\n",
              " [I 0 I 0 I 0]\n",
              " [0 P 0 0 0 0]\n",
              " [0 0 0 0 0 0]\n",
              " [0 0 0 P 0 P]\n",
              " [P 0 P 0 P 0]]"
            ]
          },
          "metadata": {},
          "execution_count": 341
        }
      ]
    },
    {
      "cell_type": "code",
      "source": [
        "checkers.board.get_valid_moves()"
      ],
      "metadata": {
        "colab": {
          "base_uri": "https://localhost:8080/"
        },
        "id": "sWyfJ0WI5b56",
        "outputId": "ae68a41a-341b-4f7b-e863-cad0e55bceac"
      },
      "execution_count": 342,
      "outputs": [
        {
          "output_type": "execute_result",
          "data": {
            "text/plain": [
              "[set(),\n",
              " set(),\n",
              " set(),\n",
              " set(),\n",
              " {(2, 3, 'right'), (3, 2, 'left')},\n",
              " {(2, 3, 'left'), (2, 5, 'right')},\n",
              " {(1, 0, 'left'), (1, 2, 'right')},\n",
              " {(3, 2, 'left'), (3, 4, 'right')},\n",
              " {(3, 4, 'left')},\n",
              " {(4, 1, 'right')},\n",
              " {(4, 1, 'left'), (4, 3, 'right')},\n",
              " {(4, 3, 'left'), (4, 5, 'right')}]"
            ]
          },
          "metadata": {},
          "execution_count": 342
        }
      ]
    },
    {
      "cell_type": "code",
      "source": [
        ""
      ],
      "metadata": {
        "id": "_4AUwyx860p3"
      },
      "execution_count": 342,
      "outputs": []
    }
  ]
}
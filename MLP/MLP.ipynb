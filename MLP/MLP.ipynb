{
  "nbformat": 4,
  "nbformat_minor": 0,
  "metadata": {
    "colab": {
      "name": "MLP.ipynb",
      "provenance": [],
      "collapsed_sections": [],
      "authorship_tag": "ABX9TyPTmIuNhStJoZLE6Af55L2x",
      "include_colab_link": true
    },
    "kernelspec": {
      "name": "python3",
      "display_name": "Python 3"
    },
    "language_info": {
      "name": "python"
    }
  },
  "cells": [
    {
      "cell_type": "markdown",
      "metadata": {
        "id": "view-in-github",
        "colab_type": "text"
      },
      "source": [
        "<a href=\"https://colab.research.google.com/github/gustavohroos/treinamento-h2ia/blob/main/MLP/MLP.ipynb\" target=\"_parent\"><img src=\"https://colab.research.google.com/assets/colab-badge.svg\" alt=\"Open In Colab\"/></a>"
      ]
    },
    {
      "cell_type": "code",
      "execution_count": 1,
      "metadata": {
        "id": "QuXpWbxab9-E"
      },
      "outputs": [],
      "source": [
        "from sklearn.preprocessing import StandardScaler\n",
        "from keras.datasets import mnist\n",
        "from sklearn.model_selection import train_test_split\n",
        "from tqdm import trange\n",
        "from IPython.core.display import clear_output\n",
        "import matplotlib.pyplot as plt\n",
        "import numpy as np\n",
        "import pandas as pd"
      ]
    },
    {
      "cell_type": "code",
      "source": [
        "def load_dataset(flatten=False):\n",
        "    (X_train, y_train), (X_test, y_test) = mnist.load_data()\n",
        "\n",
        "    X_train = X_train.astype(float) / 255.\n",
        "    X_test = X_test.astype(float) / 255.\n",
        "\n",
        "    X_train, X_val = X_train[:-10000], X_train[-10000:]\n",
        "    y_train, y_val = y_train[:-10000], y_train[-10000:]\n",
        "    \n",
        "    X_train = X_train.reshape([X_train.shape[0], -1])\n",
        "    X_val = X_val.reshape([X_val.shape[0], -1])\n",
        "    X_test = X_test.reshape([X_test.shape[0], -1])\n",
        "\n",
        "    return X_train, y_train, X_val, y_val, X_test, y_test\n",
        "    \n",
        "X_train, y_train, X_val, y_val, X_test, y_test = load_dataset(flatten=True)\n",
        "plt.figure(figsize=[6,6])\n",
        "for i in range(4):\n",
        "    plt.subplot(2,2,i+1)\n",
        "    plt.title(\"Label: %i\"%y_train[i])\n",
        "    plt.imshow(X_train[i].reshape([28,28]),cmap='gray');"
      ],
      "metadata": {
        "id": "HxOzljCYcaUs",
        "colab": {
          "base_uri": "https://localhost:8080/",
          "height": 442
        },
        "outputId": "c2f54b4a-4970-49b7-a9eb-17bdba0fde4c"
      },
      "execution_count": 2,
      "outputs": [
        {
          "output_type": "stream",
          "name": "stdout",
          "text": [
            "Downloading data from https://storage.googleapis.com/tensorflow/tf-keras-datasets/mnist.npz\n",
            "11493376/11490434 [==============================] - 0s 0us/step\n",
            "11501568/11490434 [==============================] - 0s 0us/step\n"
          ]
        },
        {
          "output_type": "display_data",
          "data": {
            "text/plain": [
              "<Figure size 432x432 with 4 Axes>"
            ],
            "image/png": "[encoded data removed]"
          },
          "metadata": {
            "needs_background": "light"
          }
        }
      ]
    },
    {
      "cell_type": "code",
      "source": [
        "class Layer:\n",
        "    def forward(self, input):\n",
        "        return input\n",
        "\n",
        "    def backward(self, input, grad_output):\n",
        "        num_units = input.shape[1]\n",
        "        \n",
        "        d_layer_d_input = np.eye(num_units)\n",
        "        \n",
        "        return np.dot(grad_output, d_layer_d_input)"
      ],
      "metadata": {
        "id": "lUTdsmpN6wbX"
      },
      "execution_count": 3,
      "outputs": []
    },
    {
      "cell_type": "code",
      "source": [
        "class ReLU(Layer):\n",
        "    def forward(self, input):\n",
        "        return np.maximum(input, 0)\n",
        "\n",
        "    def backward(self, input, grad_output):\n",
        "        return grad_output * (input > 0)"
      ],
      "metadata": {
        "id": "EI3VpROc7rvv"
      },
      "execution_count": 4,
      "outputs": []
    },
    {
      "cell_type": "code",
      "source": [
        "class Dense(Layer):\n",
        "    def __init__(self, n_inputs, n_outputs, final_layer=False, learning_rate=0.1):\n",
        "        self.n_inputs = n_inputs\n",
        "        self.n_outputs = n_outputs\n",
        "        self.learning_rate = learning_rate\n",
        "        self.weights = np.random.normal(loc=0.0,\n",
        "                                        scale=np.sqrt(2/(n_inputs+n_outputs)),\n",
        "                                        size=(n_inputs, n_outputs))\n",
        "        \n",
        "    def forward(self, input):\n",
        "        return np.dot(input, self.weights)\n",
        "\n",
        "    def backward(self, input, grad_output):\n",
        "        grad_input = np.dot(grad_output, self.weights.T)\n",
        "        grad_weights = np.dot(input.T, grad_output)\n",
        "\n",
        "        assert grad_weights.shape == self.weights.shape\n",
        "\n",
        "        self.weights = self.weights - self.learning_rate * grad_weights\n",
        "\n",
        "        return grad_input\n"
      ],
      "metadata": {
        "id": "QyM2OYrZB0g8"
      },
      "execution_count": 5,
      "outputs": []
    },
    {
      "cell_type": "code",
      "source": [
        "def softmax_crossentropy_with_logits(logits, target):\n",
        "    logits_for_answers = logits[np.arange(len(logits)), target]\n",
        "    xentropy = - logits_for_answers + np.log(np.sum(np.exp(logits), axis=-1))\n",
        "\n",
        "    return xentropy\n",
        "\n",
        "def grad_softmax_crossentropy_with_logits(logits, target):\n",
        "    ones_for_answers = np.zeros_like(logits)\n",
        "    ones_for_answers[np.arange(len(logits)), target] = 1\n",
        "\n",
        "    softmax = np.exp(logits) / np.sum(np.exp(logits), axis=-1, keepdims=True)\n",
        "\n",
        "    return (- ones_for_answers + softmax) / logits.shape[0]"
      ],
      "metadata": {
        "id": "yW0FV8lgD9aY"
      },
      "execution_count": 6,
      "outputs": []
    },
    {
      "cell_type": "code",
      "source": [
        "class MLP:\n",
        "\n",
        "    def __init__(self):\n",
        "        self.network = []\n",
        "\n",
        "    def add_layer(self, layer, hidden=True):\n",
        "        self.network.append(layer)\n",
        "        if hidden: self.network.append(ReLU())\n",
        "        \n",
        "    def forward(self, X):\n",
        "        activations = []\n",
        "        input = X\n",
        "\n",
        "        for layer in self.network:\n",
        "            activations.append(layer.forward(input))\n",
        "            input = activations[-1]\n",
        "\n",
        "        assert len(activations) == len(self.network)\n",
        "\n",
        "        return activations\n",
        "\n",
        "    def predict(self, X):\n",
        "        logits = self.forward(X)[-1]\n",
        "        return np.argmax(logits, axis=-1)\n",
        "\n",
        "    def fit(self, X, y):          \n",
        "\n",
        "        layer_activations = self.forward(X)\n",
        "        layer_inputs = [X]+layer_activations\n",
        "        logits = layer_activations[-1]\n",
        "\n",
        "        self.loss = softmax_crossentropy_with_logits(logits, y)\n",
        "        loss_grad = grad_softmax_crossentropy_with_logits(logits, y)\n",
        "\n",
        "        for layer_index in range(len(self.network))[::-1]:\n",
        "            layer = self.network[layer_index]\n",
        "\n",
        "            loss_grad = layer.backward(layer_inputs[layer_index], loss_grad)\n",
        "        \n",
        "        return self.loss\n",
        "\n",
        "    def print_layers(self):\n",
        "        count = 0\n",
        "        count_layer = 1\n",
        "        for index, layer in enumerate(self.network):\n",
        "            if count%2 == 0: \n",
        "                print(f'Layer {count_layer} shape: {layer.weights.shape}')\n",
        "                count_layer += 1\n",
        "            count +=1"
      ],
      "metadata": {
        "id": "5N3fMrGxbYGW"
      },
      "execution_count": 7,
      "outputs": []
    },
    {
      "cell_type": "code",
      "source": [
        "model = MLP()\n",
        "model.add_layer(Dense(X_train.shape[1], 200))\n",
        "model.add_layer(Dense(200, 200))\n",
        "model.add_layer(Dense(200, 100))\n",
        "model.add_layer(Dense(100, 10), hidden=False)\n",
        "model.print_layers()"
      ],
      "metadata": {
        "id": "XfyCrTBr8MJl",
        "colab": {
          "base_uri": "https://localhost:8080/"
        },
        "outputId": "3cc37b97-9553-4788-e8e4-673b9916bba0"
      },
      "execution_count": 12,
      "outputs": [
        {
          "output_type": "stream",
          "name": "stdout",
          "text": [
            "Layer 1 shape: (784, 200)\n",
            "Layer 2 shape: (200, 200)\n",
            "Layer 3 shape: (200, 100)\n",
            "Layer 4 shape: (100, 10)\n"
          ]
        }
      ]
    },
    {
      "cell_type": "code",
      "source": [
        "def iterate_minibatches(inputs, targets, batchsize, shuffle=False):\n",
        "    assert len(inputs) == len(targets)\n",
        "    \n",
        "    if shuffle: indices = np.random.permutation(len(inputs))\n",
        "    \n",
        "    for start_idx in trange(0, len(inputs) - batchsize + 1, batchsize):\n",
        "        if shuffle: excerpt = indices[start_idx:start_idx + batchsize]\n",
        "        else: excerpt = slice(start_idx, start_idx + batchsize)\n",
        "        \n",
        "        yield inputs[excerpt], targets[excerpt]\n",
        "        \n",
        "def train_epochs(X_train, y_train, model, X_val, y_val):\n",
        "    train_log = []\n",
        "    val_log = []\n",
        "    print(\"Untrained network\")\n",
        "    print(\"Train accuracy:\",np.mean(model.predict(X_train)==y_train))\n",
        "    print(\"Val accuracy:\",np.mean(model.predict(X_val)==y_val))\n",
        "    for epoch in range(10):\n",
        "        for x_batch,y_batch in iterate_minibatches(X_train,y_train,batchsize=32,shuffle=True):\n",
        "            model.fit(x_batch,y_batch)\n",
        "        train_log.append(np.mean(model.predict(X_train)==y_train))\n",
        "        val_log.append(np.mean(model.predict(X_val)==y_val))\n",
        "        # clear_output()\n",
        "        print(\"Epoch\",epoch+1)\n",
        "        print(\"Train accuracy:\",train_log[-1])\n",
        "        print(\"Val accuracy:\",val_log[-1])\n",
        "    return train_log, val_log"
      ],
      "metadata": {
        "id": "BOhKz7ZmfW9G"
      },
      "execution_count": 13,
      "outputs": []
    },
    {
      "cell_type": "code",
      "source": [
        "train_log, val_log = train_epochs(X_train, y_train, model, X_val, y_val)"
      ],
      "metadata": {
        "colab": {
          "base_uri": "https://localhost:8080/"
        },
        "id": "BuArA3raM3Ip",
        "outputId": "7efca6d9-d9af-4e5f-d1c6-bb066ffbd19d"
      },
      "execution_count": 14,
      "outputs": [
        {
          "output_type": "stream",
          "name": "stdout",
          "text": [
            "Untrained network\n",
            "Train accuracy: 0.1029\n",
            "Val accuracy: 0.1\n"
          ]
        },
        {
          "output_type": "stream",
          "name": "stderr",
          "text": [
            "100%|██████████| 1562/1562 [00:08<00:00, 185.33it/s]\n"
          ]
        },
        {
          "output_type": "stream",
          "name": "stdout",
          "text": [
            "Epoch 1\n",
            "Train accuracy: 0.96544\n",
            "Val accuracy: 0.9639\n"
          ]
        },
        {
          "output_type": "stream",
          "name": "stderr",
          "text": [
            "100%|██████████| 1562/1562 [00:08<00:00, 190.55it/s]\n"
          ]
        },
        {
          "output_type": "stream",
          "name": "stdout",
          "text": [
            "Epoch 2\n",
            "Train accuracy: 0.9795\n",
            "Val accuracy: 0.9708\n"
          ]
        },
        {
          "output_type": "stream",
          "name": "stderr",
          "text": [
            "100%|██████████| 1562/1562 [00:08<00:00, 190.57it/s]\n"
          ]
        },
        {
          "output_type": "stream",
          "name": "stdout",
          "text": [
            "Epoch 3\n",
            "Train accuracy: 0.98402\n",
            "Val accuracy: 0.9732\n"
          ]
        },
        {
          "output_type": "stream",
          "name": "stderr",
          "text": [
            "100%|██████████| 1562/1562 [00:08<00:00, 185.76it/s]\n"
          ]
        },
        {
          "output_type": "stream",
          "name": "stdout",
          "text": [
            "Epoch 4\n",
            "Train accuracy: 0.98888\n",
            "Val accuracy: 0.9763\n"
          ]
        },
        {
          "output_type": "stream",
          "name": "stderr",
          "text": [
            "100%|██████████| 1562/1562 [00:08<00:00, 191.88it/s]\n"
          ]
        },
        {
          "output_type": "stream",
          "name": "stdout",
          "text": [
            "Epoch 5\n",
            "Train accuracy: 0.98928\n",
            "Val accuracy: 0.9738\n"
          ]
        },
        {
          "output_type": "stream",
          "name": "stderr",
          "text": [
            "100%|██████████| 1562/1562 [00:08<00:00, 188.01it/s]\n"
          ]
        },
        {
          "output_type": "stream",
          "name": "stdout",
          "text": [
            "Epoch 6\n",
            "Train accuracy: 0.99158\n",
            "Val accuracy: 0.9776\n"
          ]
        },
        {
          "output_type": "stream",
          "name": "stderr",
          "text": [
            "100%|██████████| 1562/1562 [00:08<00:00, 188.04it/s]\n"
          ]
        },
        {
          "output_type": "stream",
          "name": "stdout",
          "text": [
            "Epoch 7\n",
            "Train accuracy: 0.99606\n",
            "Val accuracy: 0.9805\n"
          ]
        },
        {
          "output_type": "stream",
          "name": "stderr",
          "text": [
            "100%|██████████| 1562/1562 [00:08<00:00, 188.66it/s]\n"
          ]
        },
        {
          "output_type": "stream",
          "name": "stdout",
          "text": [
            "Epoch 8\n",
            "Train accuracy: 0.99636\n",
            "Val accuracy: 0.9778\n"
          ]
        },
        {
          "output_type": "stream",
          "name": "stderr",
          "text": [
            "100%|██████████| 1562/1562 [00:08<00:00, 186.86it/s]\n"
          ]
        },
        {
          "output_type": "stream",
          "name": "stdout",
          "text": [
            "Epoch 9\n",
            "Train accuracy: 0.99326\n",
            "Val accuracy: 0.9755\n"
          ]
        },
        {
          "output_type": "stream",
          "name": "stderr",
          "text": [
            "100%|██████████| 1562/1562 [00:08<00:00, 190.69it/s]\n"
          ]
        },
        {
          "output_type": "stream",
          "name": "stdout",
          "text": [
            "Epoch 10\n",
            "Train accuracy: 0.99458\n",
            "Val accuracy: 0.9784\n"
          ]
        }
      ]
    },
    {
      "cell_type": "code",
      "source": [
        "print(\"Epoch\",10)\n",
        "print(\"Train accuracy:\",train_log[-1])\n",
        "print(\"Val accuracy:\",val_log[-1])\n",
        "plt.plot(train_log,label='train accuracy')\n",
        "plt.plot(val_log,label='val accuracy')\n",
        "plt.legend(loc='best')\n",
        "plt.grid()\n",
        "plt.show()"
      ],
      "metadata": {
        "colab": {
          "base_uri": "https://localhost:8080/",
          "height": 317
        },
        "id": "EbZ_gmxxOE-I",
        "outputId": "a8636e80-9fe0-4b69-a9d7-04e36ffc44d0"
      },
      "execution_count": 15,
      "outputs": [
        {
          "output_type": "stream",
          "name": "stdout",
          "text": [
            "Epoch 10\n",
            "Train accuracy: 0.99458\n",
            "Val accuracy: 0.9784\n"
          ]
        },
        {
          "output_type": "display_data",
          "data": {
            "text/plain": [
              "<Figure size 432x288 with 1 Axes>"
            ],
            "image/png": "[encoded data removed]"
          },
          "metadata": {
            "needs_background": "light"
          }
        }
      ]
    },
    {
      "cell_type": "code",
      "source": [
        "def plot_predictions(data, target, prediction, n_plots=8,figsize=[15,15]):\n",
        "  plt.figure(figsize=figsize)\n",
        "  for i in range(n_plots):\n",
        "      plt.subplot(n_plots/2, n_plots/2, i+1)\n",
        "      plt.title(f'Target: {target[i]}   Predicted: {prediction[i]}')\n",
        "      plt.imshow(data[i].reshape([28,28]),cmap='gray');"
      ],
      "metadata": {
        "id": "7bzZEQBiPM4u"
      },
      "execution_count": 16,
      "outputs": []
    },
    {
      "cell_type": "code",
      "source": [
        "prediction = model.predict(X_test)\n",
        "plot_predictions(X_test, y_test, prediction, n_plots=10, figsize=[20,20])"
      ],
      "metadata": {
        "colab": {
          "base_uri": "https://localhost:8080/",
          "height": 476
        },
        "id": "hO4153G2OIEn",
        "outputId": "08368e8c-2086-4dac-edab-93a92645b9b8"
      },
      "execution_count": 17,
      "outputs": [
        {
          "output_type": "display_data",
          "data": {
            "text/plain": [
              "<Figure size 1440x1440 with 10 Axes>"
            ],
            "image/png": "[encoded data removed]"
          },
          "metadata": {
            "needs_background": "light"
          }
        }
      ]
    },
    {
      "cell_type": "code",
      "source": [
        "print(f'Final accuracy w/ X_test: {np.mean(prediction==y_test)}')"
      ],
      "metadata": {
        "colab": {
          "base_uri": "https://localhost:8080/"
        },
        "id": "EWx4_q5tPyfO",
        "outputId": "02c256a7-4d22-4d01-a9a7-e9f20ef3f1e0"
      },
      "execution_count": 18,
      "outputs": [
        {
          "output_type": "stream",
          "name": "stdout",
          "text": [
            "Final accuracy w/ X_test: 0.9751\n"
          ]
        }
      ]
    },
    {
      "cell_type": "markdown",
      "source": [
        "##References\n",
        "https://towardsdatascience.com/building-neural-network-from-scratch-9c88535bf8e9<br/>\n",
        "https://www.youtube.com/watch?v=0oWnheK-gGk<br/>\n",
        "https://www.kaggle.com/code/vitorgamalemos/multilayer-perceptron-from-scratch/notebook"
      ],
      "metadata": {
        "id": "222R1D6yVlQ6"
      }
    }
  ]
}